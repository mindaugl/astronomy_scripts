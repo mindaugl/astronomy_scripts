{
 "cells": [
  {
   "cell_type": "code",
   "execution_count": 1,
   "id": "e8661b53-d756-4ec6-b28f-0f7263a329f0",
   "metadata": {},
   "outputs": [],
   "source": [
    "from numpy import pi, linspace, diff, mean, min, max, arctan2\n",
    "from skyfield.api import load\n",
    "from skyfield.framelib import ecliptic_J2000_frame, ICRS, mean_equator_and_equinox_of_date\n",
    "from skyfield.searchlib import find_discrete\n",
    "from bokeh.plotting import figure, show\n",
    "from bokeh.io import output_notebook"
   ]
  },
  {
   "cell_type": "code",
   "execution_count": 2,
   "id": "7e343612-1b39-4d53-99c0-ac5c513fba28",
   "metadata": {},
   "outputs": [
    {
     "data": {
      "text/html": [
       "    <style>\n",
       "        .bk-notebook-logo {\n",
       "            display: block;\n",
       "            width: 20px;\n",
       "            height: 20px;\n",
       "            background-image: url(data:image/png;base64,iVBORw0KGgoAAAANSUhEUgAAABQAAAAUCAYAAACNiR0NAAAABHNCSVQICAgIfAhkiAAAAAlwSFlzAAALEgAACxIB0t1+/AAAABx0RVh0U29mdHdhcmUAQWRvYmUgRmlyZXdvcmtzIENTNui8sowAAAOkSURBVDiNjZRtaJVlGMd/1/08zzln5zjP1LWcU9N0NkN8m2CYjpgQYQXqSs0I84OLIC0hkEKoPtiH3gmKoiJDU7QpLgoLjLIQCpEsNJ1vqUOdO7ppbuec5+V+rj4ctwzd8IIbbi6u+8f1539dt3A78eXC7QizUF7gyV1fD1Yqg4JWz84yffhm0qkFqBogB9rM8tZdtwVsPUhWhGcFJngGeWrPzHm5oaMmkfEg1usvLFyc8jLRqDOMru7AyC8saQr7GG7f5fvDeH7Ej8CM66nIF+8yngt6HWaKh7k49Soy9nXurCi1o3qUbS3zWfrYeQDTB/Qj6kX6Ybhw4B+bOYoLKCC9H3Nu/leUTZ1JdRWkkn2ldcCamzrcf47KKXdAJllSlxAOkRgyHsGC/zRday5Qld9DyoM4/q/rUoy/CXh3jzOu3bHUVZeU+DEn8FInkPBFlu3+nW3Nw0mk6vCDiWg8CeJaxEwuHS3+z5RgY+YBR6V1Z1nxSOfoaPa4LASWxxdNp+VWTk7+4vzaou8v8PN+xo+KY2xsw6une2frhw05CTYOmQvsEhjhWjn0bmXPjpE1+kplmmkP3suftwTubK9Vq22qKmrBhpY4jvd5afdRA3wGjFAgcnTK2s4hY0/GPNIb0nErGMCRxWOOX64Z8RAC4oCXdklmEvcL8o0BfkNK4lUg9HTl+oPlQxdNo3Mg4Nv175e/1LDGzZen30MEjRUtmXSfiTVu1kK8W4txyV6BMKlbgk3lMwYCiusNy9fVfvvwMxv8Ynl6vxoByANLTWplvuj/nF9m2+PDtt1eiHPBr1oIfhCChQMBw6Aw0UulqTKZdfVvfG7VcfIqLG9bcldL/+pdWTLxLUy8Qq38heUIjh4XlzZxzQm19lLFlr8vdQ97rjZVOLf8nclzckbcD4wxXMidpX30sFd37Fv/GtwwhzhxGVAprjbg0gCAEeIgwCZyTV2Z1REEW8O4py0wsjeloKoMr6iCY6dP92H6Vw/oTyICIthibxjm/DfN9lVz8IqtqKYLUXfoKVMVQVVJOElGjrnnUt9T9wbgp8AyYKaGlqingHZU/uG2NTZSVqwHQTWkx9hxjkpWDaCg6Ckj5qebgBVbT3V3NNXMSiWSDdGV3hrtzla7J+duwPOToIg42ChPQOQjspnSlp1V+Gjdged7+8UN5CRAV7a5EdFNwCjEaBR27b3W890TE7g24NAP/mMDXRWrGoFPQI9ls/MWO2dWFAar/xcOIImbbpA3zgAAAABJRU5ErkJggg==);\n",
       "        }\n",
       "    </style>\n",
       "    <div>\n",
       "        <a href=\"https://bokeh.org\" target=\"_blank\" class=\"bk-notebook-logo\"></a>\n",
       "        <span id=\"ae8c8e1a-5834-40e8-a52a-ee7b3099e638\">Loading BokehJS ...</span>\n",
       "    </div>\n"
      ]
     },
     "metadata": {},
     "output_type": "display_data"
    },
    {
     "data": {
      "application/javascript": [
       "'use strict';\n",
       "(function(root) {\n",
       "  function now() {\n",
       "    return new Date();\n",
       "  }\n",
       "\n",
       "  const force = true;\n",
       "\n",
       "  if (typeof root._bokeh_onload_callbacks === \"undefined\" || force === true) {\n",
       "    root._bokeh_onload_callbacks = [];\n",
       "    root._bokeh_is_loading = undefined;\n",
       "  }\n",
       "\n",
       "const JS_MIME_TYPE = 'application/javascript';\n",
       "  const HTML_MIME_TYPE = 'text/html';\n",
       "  const EXEC_MIME_TYPE = 'application/vnd.bokehjs_exec.v0+json';\n",
       "  const CLASS_NAME = 'output_bokeh rendered_html';\n",
       "\n",
       "  /**\n",
       "   * Render data to the DOM node\n",
       "   */\n",
       "  function render(props, node) {\n",
       "    const script = document.createElement(\"script\");\n",
       "    node.appendChild(script);\n",
       "  }\n",
       "\n",
       "  /**\n",
       "   * Handle when an output is cleared or removed\n",
       "   */\n",
       "  function handleClearOutput(event, handle) {\n",
       "    function drop(id) {\n",
       "      const view = Bokeh.index.get_by_id(id)\n",
       "      if (view != null) {\n",
       "        view.model.document.clear()\n",
       "        Bokeh.index.delete(view)\n",
       "      }\n",
       "    }\n",
       "\n",
       "    const cell = handle.cell;\n",
       "\n",
       "    const id = cell.output_area._bokeh_element_id;\n",
       "    const server_id = cell.output_area._bokeh_server_id;\n",
       "\n",
       "    // Clean up Bokeh references\n",
       "    if (id != null) {\n",
       "      drop(id)\n",
       "    }\n",
       "\n",
       "    if (server_id !== undefined) {\n",
       "      // Clean up Bokeh references\n",
       "      const cmd_clean = \"from bokeh.io.state import curstate; print(curstate().uuid_to_server['\" + server_id + \"'].get_sessions()[0].document.roots[0]._id)\";\n",
       "      cell.notebook.kernel.execute(cmd_clean, {\n",
       "        iopub: {\n",
       "          output: function(msg) {\n",
       "            const id = msg.content.text.trim()\n",
       "            drop(id)\n",
       "          }\n",
       "        }\n",
       "      });\n",
       "      // Destroy server and session\n",
       "      const cmd_destroy = \"import bokeh.io.notebook as ion; ion.destroy_server('\" + server_id + \"')\";\n",
       "      cell.notebook.kernel.execute(cmd_destroy);\n",
       "    }\n",
       "  }\n",
       "\n",
       "  /**\n",
       "   * Handle when a new output is added\n",
       "   */\n",
       "  function handleAddOutput(event, handle) {\n",
       "    const output_area = handle.output_area;\n",
       "    const output = handle.output;\n",
       "\n",
       "    // limit handleAddOutput to display_data with EXEC_MIME_TYPE content only\n",
       "    if ((output.output_type != \"display_data\") || (!Object.prototype.hasOwnProperty.call(output.data, EXEC_MIME_TYPE))) {\n",
       "      return\n",
       "    }\n",
       "\n",
       "    const toinsert = output_area.element.find(\".\" + CLASS_NAME.split(' ')[0]);\n",
       "\n",
       "    if (output.metadata[EXEC_MIME_TYPE][\"id\"] !== undefined) {\n",
       "      toinsert[toinsert.length - 1].firstChild.textContent = output.data[JS_MIME_TYPE];\n",
       "      // store reference to embed id on output_area\n",
       "      output_area._bokeh_element_id = output.metadata[EXEC_MIME_TYPE][\"id\"];\n",
       "    }\n",
       "    if (output.metadata[EXEC_MIME_TYPE][\"server_id\"] !== undefined) {\n",
       "      const bk_div = document.createElement(\"div\");\n",
       "      bk_div.innerHTML = output.data[HTML_MIME_TYPE];\n",
       "      const script_attrs = bk_div.children[0].attributes;\n",
       "      for (let i = 0; i < script_attrs.length; i++) {\n",
       "        toinsert[toinsert.length - 1].firstChild.setAttribute(script_attrs[i].name, script_attrs[i].value);\n",
       "        toinsert[toinsert.length - 1].firstChild.textContent = bk_div.children[0].textContent\n",
       "      }\n",
       "      // store reference to server id on output_area\n",
       "      output_area._bokeh_server_id = output.metadata[EXEC_MIME_TYPE][\"server_id\"];\n",
       "    }\n",
       "  }\n",
       "\n",
       "  function register_renderer(events, OutputArea) {\n",
       "\n",
       "    function append_mime(data, metadata, element) {\n",
       "      // create a DOM node to render to\n",
       "      const toinsert = this.create_output_subarea(\n",
       "        metadata,\n",
       "        CLASS_NAME,\n",
       "        EXEC_MIME_TYPE\n",
       "      );\n",
       "      this.keyboard_manager.register_events(toinsert);\n",
       "      // Render to node\n",
       "      const props = {data: data, metadata: metadata[EXEC_MIME_TYPE]};\n",
       "      render(props, toinsert[toinsert.length - 1]);\n",
       "      element.append(toinsert);\n",
       "      return toinsert\n",
       "    }\n",
       "\n",
       "    /* Handle when an output is cleared or removed */\n",
       "    events.on('clear_output.CodeCell', handleClearOutput);\n",
       "    events.on('delete.Cell', handleClearOutput);\n",
       "\n",
       "    /* Handle when a new output is added */\n",
       "    events.on('output_added.OutputArea', handleAddOutput);\n",
       "\n",
       "    /**\n",
       "     * Register the mime type and append_mime function with output_area\n",
       "     */\n",
       "    OutputArea.prototype.register_mime_type(EXEC_MIME_TYPE, append_mime, {\n",
       "      /* Is output safe? */\n",
       "      safe: true,\n",
       "      /* Index of renderer in `output_area.display_order` */\n",
       "      index: 0\n",
       "    });\n",
       "  }\n",
       "\n",
       "  // register the mime type if in Jupyter Notebook environment and previously unregistered\n",
       "  if (root.Jupyter !== undefined) {\n",
       "    const events = require('base/js/events');\n",
       "    const OutputArea = require('notebook/js/outputarea').OutputArea;\n",
       "\n",
       "    if (OutputArea.prototype.mime_types().indexOf(EXEC_MIME_TYPE) == -1) {\n",
       "      register_renderer(events, OutputArea);\n",
       "    }\n",
       "  }\n",
       "  if (typeof (root._bokeh_timeout) === \"undefined\" || force === true) {\n",
       "    root._bokeh_timeout = Date.now() + 5000;\n",
       "    root._bokeh_failed_load = false;\n",
       "  }\n",
       "\n",
       "  const NB_LOAD_WARNING = {'data': {'text/html':\n",
       "     \"<div style='background-color: #fdd'>\\n\"+\n",
       "     \"<p>\\n\"+\n",
       "     \"BokehJS does not appear to have successfully loaded. If loading BokehJS from CDN, this \\n\"+\n",
       "     \"may be due to a slow or bad network connection. Possible fixes:\\n\"+\n",
       "     \"</p>\\n\"+\n",
       "     \"<ul>\\n\"+\n",
       "     \"<li>re-rerun `output_notebook()` to attempt to load from CDN again, or</li>\\n\"+\n",
       "     \"<li>use INLINE resources instead, as so:</li>\\n\"+\n",
       "     \"</ul>\\n\"+\n",
       "     \"<code>\\n\"+\n",
       "     \"from bokeh.resources import INLINE\\n\"+\n",
       "     \"output_notebook(resources=INLINE)\\n\"+\n",
       "     \"</code>\\n\"+\n",
       "     \"</div>\"}};\n",
       "\n",
       "  function display_loaded(error = null) {\n",
       "    const el = document.getElementById(\"ae8c8e1a-5834-40e8-a52a-ee7b3099e638\");\n",
       "    if (el != null) {\n",
       "      const html = (() => {\n",
       "        if (typeof root.Bokeh === \"undefined\") {\n",
       "          if (error == null) {\n",
       "            return \"BokehJS is loading ...\";\n",
       "          } else {\n",
       "            return \"BokehJS failed to load.\";\n",
       "          }\n",
       "        } else {\n",
       "          const prefix = `BokehJS ${root.Bokeh.version}`;\n",
       "          if (error == null) {\n",
       "            return `${prefix} successfully loaded.`;\n",
       "          } else {\n",
       "            return `${prefix} <b>encountered errors</b> while loading and may not function as expected.`;\n",
       "          }\n",
       "        }\n",
       "      })();\n",
       "      el.innerHTML = html;\n",
       "\n",
       "      if (error != null) {\n",
       "        const wrapper = document.createElement(\"div\");\n",
       "        wrapper.style.overflow = \"auto\";\n",
       "        wrapper.style.height = \"5em\";\n",
       "        wrapper.style.resize = \"vertical\";\n",
       "        const content = document.createElement(\"div\");\n",
       "        content.style.fontFamily = \"monospace\";\n",
       "        content.style.whiteSpace = \"pre-wrap\";\n",
       "        content.style.backgroundColor = \"rgb(255, 221, 221)\";\n",
       "        content.textContent = error.stack ?? error.toString();\n",
       "        wrapper.append(content);\n",
       "        el.append(wrapper);\n",
       "      }\n",
       "    } else if (Date.now() < root._bokeh_timeout) {\n",
       "      setTimeout(() => display_loaded(error), 100);\n",
       "    }\n",
       "  }\n",
       "\n",
       "  function run_callbacks() {\n",
       "    try {\n",
       "      root._bokeh_onload_callbacks.forEach(function(callback) {\n",
       "        if (callback != null)\n",
       "          callback();\n",
       "      });\n",
       "    } finally {\n",
       "      delete root._bokeh_onload_callbacks\n",
       "    }\n",
       "    console.debug(\"Bokeh: all callbacks have finished\");\n",
       "  }\n",
       "\n",
       "  function load_libs(css_urls, js_urls, callback) {\n",
       "    if (css_urls == null) css_urls = [];\n",
       "    if (js_urls == null) js_urls = [];\n",
       "\n",
       "    root._bokeh_onload_callbacks.push(callback);\n",
       "    if (root._bokeh_is_loading > 0) {\n",
       "      console.debug(\"Bokeh: BokehJS is being loaded, scheduling callback at\", now());\n",
       "      return null;\n",
       "    }\n",
       "    if (js_urls == null || js_urls.length === 0) {\n",
       "      run_callbacks();\n",
       "      return null;\n",
       "    }\n",
       "    console.debug(\"Bokeh: BokehJS not loaded, scheduling load and callback at\", now());\n",
       "    root._bokeh_is_loading = css_urls.length + js_urls.length;\n",
       "\n",
       "    function on_load() {\n",
       "      root._bokeh_is_loading--;\n",
       "      if (root._bokeh_is_loading === 0) {\n",
       "        console.debug(\"Bokeh: all BokehJS libraries/stylesheets loaded\");\n",
       "        run_callbacks()\n",
       "      }\n",
       "    }\n",
       "\n",
       "    function on_error(url) {\n",
       "      console.error(\"failed to load \" + url);\n",
       "    }\n",
       "\n",
       "    for (let i = 0; i < css_urls.length; i++) {\n",
       "      const url = css_urls[i];\n",
       "      const element = document.createElement(\"link\");\n",
       "      element.onload = on_load;\n",
       "      element.onerror = on_error.bind(null, url);\n",
       "      element.rel = \"stylesheet\";\n",
       "      element.type = \"text/css\";\n",
       "      element.href = url;\n",
       "      console.debug(\"Bokeh: injecting link tag for BokehJS stylesheet: \", url);\n",
       "      document.body.appendChild(element);\n",
       "    }\n",
       "\n",
       "    for (let i = 0; i < js_urls.length; i++) {\n",
       "      const url = js_urls[i];\n",
       "      const element = document.createElement('script');\n",
       "      element.onload = on_load;\n",
       "      element.onerror = on_error.bind(null, url);\n",
       "      element.async = false;\n",
       "      element.src = url;\n",
       "      console.debug(\"Bokeh: injecting script tag for BokehJS library: \", url);\n",
       "      document.head.appendChild(element);\n",
       "    }\n",
       "  };\n",
       "\n",
       "  function inject_raw_css(css) {\n",
       "    const element = document.createElement(\"style\");\n",
       "    element.appendChild(document.createTextNode(css));\n",
       "    document.body.appendChild(element);\n",
       "  }\n",
       "\n",
       "  const js_urls = [\"https://cdn.bokeh.org/bokeh/release/bokeh-3.7.2.min.js\", \"https://cdn.bokeh.org/bokeh/release/bokeh-gl-3.7.2.min.js\", \"https://cdn.bokeh.org/bokeh/release/bokeh-widgets-3.7.2.min.js\", \"https://cdn.bokeh.org/bokeh/release/bokeh-tables-3.7.2.min.js\", \"https://cdn.bokeh.org/bokeh/release/bokeh-mathjax-3.7.2.min.js\"];\n",
       "  const css_urls = [];\n",
       "\n",
       "  const inline_js = [    function(Bokeh) {\n",
       "      Bokeh.set_log_level(\"info\");\n",
       "    },\n",
       "function(Bokeh) {\n",
       "    }\n",
       "  ];\n",
       "\n",
       "  function run_inline_js() {\n",
       "    if (root.Bokeh !== undefined || force === true) {\n",
       "      try {\n",
       "            for (let i = 0; i < inline_js.length; i++) {\n",
       "      inline_js[i].call(root, root.Bokeh);\n",
       "    }\n",
       "\n",
       "      } catch (error) {display_loaded(error);throw error;\n",
       "      }if (force === true) {\n",
       "        display_loaded();\n",
       "      }} else if (Date.now() < root._bokeh_timeout) {\n",
       "      setTimeout(run_inline_js, 100);\n",
       "    } else if (!root._bokeh_failed_load) {\n",
       "      console.log(\"Bokeh: BokehJS failed to load within specified timeout.\");\n",
       "      root._bokeh_failed_load = true;\n",
       "    } else if (force !== true) {\n",
       "      const cell = $(document.getElementById(\"ae8c8e1a-5834-40e8-a52a-ee7b3099e638\")).parents('.cell').data().cell;\n",
       "      cell.output_area.append_execute_result(NB_LOAD_WARNING)\n",
       "    }\n",
       "  }\n",
       "\n",
       "  if (root._bokeh_is_loading === 0) {\n",
       "    console.debug(\"Bokeh: BokehJS loaded, going straight to plotting\");\n",
       "    run_inline_js();\n",
       "  } else {\n",
       "    load_libs(css_urls, js_urls, function() {\n",
       "      console.debug(\"Bokeh: BokehJS plotting callback run at\", now());\n",
       "      run_inline_js();\n",
       "    });\n",
       "  }\n",
       "}(window));"
      ],
      "application/vnd.bokehjs_load.v0+json": "'use strict';\n(function(root) {\n  function now() {\n    return new Date();\n  }\n\n  const force = true;\n\n  if (typeof root._bokeh_onload_callbacks === \"undefined\" || force === true) {\n    root._bokeh_onload_callbacks = [];\n    root._bokeh_is_loading = undefined;\n  }\n\n\n  if (typeof (root._bokeh_timeout) === \"undefined\" || force === true) {\n    root._bokeh_timeout = Date.now() + 5000;\n    root._bokeh_failed_load = false;\n  }\n\n  const NB_LOAD_WARNING = {'data': {'text/html':\n     \"<div style='background-color: #fdd'>\\n\"+\n     \"<p>\\n\"+\n     \"BokehJS does not appear to have successfully loaded. If loading BokehJS from CDN, this \\n\"+\n     \"may be due to a slow or bad network connection. Possible fixes:\\n\"+\n     \"</p>\\n\"+\n     \"<ul>\\n\"+\n     \"<li>re-rerun `output_notebook()` to attempt to load from CDN again, or</li>\\n\"+\n     \"<li>use INLINE resources instead, as so:</li>\\n\"+\n     \"</ul>\\n\"+\n     \"<code>\\n\"+\n     \"from bokeh.resources import INLINE\\n\"+\n     \"output_notebook(resources=INLINE)\\n\"+\n     \"</code>\\n\"+\n     \"</div>\"}};\n\n  function display_loaded(error = null) {\n    const el = document.getElementById(\"ae8c8e1a-5834-40e8-a52a-ee7b3099e638\");\n    if (el != null) {\n      const html = (() => {\n        if (typeof root.Bokeh === \"undefined\") {\n          if (error == null) {\n            return \"BokehJS is loading ...\";\n          } else {\n            return \"BokehJS failed to load.\";\n          }\n        } else {\n          const prefix = `BokehJS ${root.Bokeh.version}`;\n          if (error == null) {\n            return `${prefix} successfully loaded.`;\n          } else {\n            return `${prefix} <b>encountered errors</b> while loading and may not function as expected.`;\n          }\n        }\n      })();\n      el.innerHTML = html;\n\n      if (error != null) {\n        const wrapper = document.createElement(\"div\");\n        wrapper.style.overflow = \"auto\";\n        wrapper.style.height = \"5em\";\n        wrapper.style.resize = \"vertical\";\n        const content = document.createElement(\"div\");\n        content.style.fontFamily = \"monospace\";\n        content.style.whiteSpace = \"pre-wrap\";\n        content.style.backgroundColor = \"rgb(255, 221, 221)\";\n        content.textContent = error.stack ?? error.toString();\n        wrapper.append(content);\n        el.append(wrapper);\n      }\n    } else if (Date.now() < root._bokeh_timeout) {\n      setTimeout(() => display_loaded(error), 100);\n    }\n  }\n\n  function run_callbacks() {\n    try {\n      root._bokeh_onload_callbacks.forEach(function(callback) {\n        if (callback != null)\n          callback();\n      });\n    } finally {\n      delete root._bokeh_onload_callbacks\n    }\n    console.debug(\"Bokeh: all callbacks have finished\");\n  }\n\n  function load_libs(css_urls, js_urls, callback) {\n    if (css_urls == null) css_urls = [];\n    if (js_urls == null) js_urls = [];\n\n    root._bokeh_onload_callbacks.push(callback);\n    if (root._bokeh_is_loading > 0) {\n      console.debug(\"Bokeh: BokehJS is being loaded, scheduling callback at\", now());\n      return null;\n    }\n    if (js_urls == null || js_urls.length === 0) {\n      run_callbacks();\n      return null;\n    }\n    console.debug(\"Bokeh: BokehJS not loaded, scheduling load and callback at\", now());\n    root._bokeh_is_loading = css_urls.length + js_urls.length;\n\n    function on_load() {\n      root._bokeh_is_loading--;\n      if (root._bokeh_is_loading === 0) {\n        console.debug(\"Bokeh: all BokehJS libraries/stylesheets loaded\");\n        run_callbacks()\n      }\n    }\n\n    function on_error(url) {\n      console.error(\"failed to load \" + url);\n    }\n\n    for (let i = 0; i < css_urls.length; i++) {\n      const url = css_urls[i];\n      const element = document.createElement(\"link\");\n      element.onload = on_load;\n      element.onerror = on_error.bind(null, url);\n      element.rel = \"stylesheet\";\n      element.type = \"text/css\";\n      element.href = url;\n      console.debug(\"Bokeh: injecting link tag for BokehJS stylesheet: \", url);\n      document.body.appendChild(element);\n    }\n\n    for (let i = 0; i < js_urls.length; i++) {\n      const url = js_urls[i];\n      const element = document.createElement('script');\n      element.onload = on_load;\n      element.onerror = on_error.bind(null, url);\n      element.async = false;\n      element.src = url;\n      console.debug(\"Bokeh: injecting script tag for BokehJS library: \", url);\n      document.head.appendChild(element);\n    }\n  };\n\n  function inject_raw_css(css) {\n    const element = document.createElement(\"style\");\n    element.appendChild(document.createTextNode(css));\n    document.body.appendChild(element);\n  }\n\n  const js_urls = [\"https://cdn.bokeh.org/bokeh/release/bokeh-3.7.2.min.js\", \"https://cdn.bokeh.org/bokeh/release/bokeh-gl-3.7.2.min.js\", \"https://cdn.bokeh.org/bokeh/release/bokeh-widgets-3.7.2.min.js\", \"https://cdn.bokeh.org/bokeh/release/bokeh-tables-3.7.2.min.js\", \"https://cdn.bokeh.org/bokeh/release/bokeh-mathjax-3.7.2.min.js\"];\n  const css_urls = [];\n\n  const inline_js = [    function(Bokeh) {\n      Bokeh.set_log_level(\"info\");\n    },\nfunction(Bokeh) {\n    }\n  ];\n\n  function run_inline_js() {\n    if (root.Bokeh !== undefined || force === true) {\n      try {\n            for (let i = 0; i < inline_js.length; i++) {\n      inline_js[i].call(root, root.Bokeh);\n    }\n\n      } catch (error) {display_loaded(error);throw error;\n      }if (force === true) {\n        display_loaded();\n      }} else if (Date.now() < root._bokeh_timeout) {\n      setTimeout(run_inline_js, 100);\n    } else if (!root._bokeh_failed_load) {\n      console.log(\"Bokeh: BokehJS failed to load within specified timeout.\");\n      root._bokeh_failed_load = true;\n    } else if (force !== true) {\n      const cell = $(document.getElementById(\"ae8c8e1a-5834-40e8-a52a-ee7b3099e638\")).parents('.cell').data().cell;\n      cell.output_area.append_execute_result(NB_LOAD_WARNING)\n    }\n  }\n\n  if (root._bokeh_is_loading === 0) {\n    console.debug(\"Bokeh: BokehJS loaded, going straight to plotting\");\n    run_inline_js();\n  } else {\n    load_libs(css_urls, js_urls, function() {\n      console.debug(\"Bokeh: BokehJS plotting callback run at\", now());\n      run_inline_js();\n    });\n  }\n}(window));"
     },
     "metadata": {},
     "output_type": "display_data"
    }
   ],
   "source": [
    "output_notebook()"
   ]
  },
  {
   "cell_type": "code",
   "execution_count": 9,
   "id": "0d0daf11-4064-449e-9c91-35a8e9779a52",
   "metadata": {},
   "outputs": [],
   "source": [
    "ts = load.timescale()\n",
    "eph_s_name = 'de421.bsp'\n",
    "# eph_s_name = 'de422.bsp'\n",
    "t_start = ts.tt(2005, 6, 21, 0, 0, 0)\n",
    "eph_s = load(eph_s_name)\n",
    "moon = eph_s[\"moon\"]\n",
    "earth = eph_s[\"earth\"]\n",
    "sun = eph_s[\"sun\"]\n",
    "northern_hemisphere = True\n",
    "\n",
    "def get_colors(tt):\n",
    "    return [f\"#{255:02x}{int(255 * (tt[-1] - t) / (tt[-1] - tt[0])):02x}{255:02x}\" for t in tt]"
   ]
  },
  {
   "cell_type": "markdown",
   "id": "fe4357b6-086f-46ce-bbe9-eb716d7216ed",
   "metadata": {},
   "source": [
    "## Max lunar declination"
   ]
  },
  {
   "cell_type": "code",
   "execution_count": 4,
   "id": "77b215b4-49e6-478d-9f49-322a89e38a39",
   "metadata": {},
   "outputs": [],
   "source": [
    "def f_max_dec(target, ref):\n",
    "    def zero(t):\n",
    "        _, _, _, lat_r, _, _  = ref.at(t).observe(target).frame_latlon_and_rates(ICRS)\n",
    "        return  lat_r.degrees.per_day > 0\n",
    "    zero.step_days = 10.0\n",
    "    return zero"
   ]
  },
  {
   "cell_type": "code",
   "execution_count": 14,
   "id": "082617df-0b3c-4f0d-afa7-835a0b914603",
   "metadata": {},
   "outputs": [],
   "source": [
    "t_dec_zero_rate = find_discrete(t_start, t_start + 365*19.5, f_max_dec(moon, earth))\n",
    "t_max_dec = t_dec_zero_rate[0][t_dec_zero_rate[1] == int(not northern_hemisphere)]\n",
    "ra, dec, dist = earth.at(t_max_dec).observe(moon).radec()"
   ]
  },
  {
   "cell_type": "code",
   "execution_count": 15,
   "id": "ada3ef3b-2611-4afd-9b61-9e934cd59786",
   "metadata": {},
   "outputs": [
    {
     "data": {
      "text/html": [
       "\n",
       "  <div id=\"f8cff0fe-bff5-423a-980c-b0add419e2cc\" data-root-id=\"p1286\" style=\"display: contents;\"></div>\n"
      ]
     },
     "metadata": {},
     "output_type": "display_data"
    },
    {
     "data": {
      "application/javascript": [
       "(function(root) {\n",
       "  function embed_document(root) {\n",
       "  const docs_json = {\"c0ab33af-d52c-4137-9190-b9badedbe1fa\":{\"version\":\"3.7.2\",\"title\":\"Bokeh Application\",\"roots\":[{\"type\":\"object\",\"name\":\"Figure\",\"id\":\"p1286\",\"attributes\":{\"width\":1100,\"x_range\":{\"type\":\"object\",\"name\":\"DataRange1d\",\"id\":\"p1287\"},\"y_range\":{\"type\":\"object\",\"name\":\"DataRange1d\",\"id\":\"p1288\"},\"x_scale\":{\"type\":\"object\",\"name\":\"LinearScale\",\"id\":\"p1296\"},\"y_scale\":{\"type\":\"object\",\"name\":\"LinearScale\",\"id\":\"p1297\"},\"title\":{\"type\":\"object\",\"name\":\"Title\",\"id\":\"p1289\",\"attributes\":{\"text\":\"Moon standstills\"}},\"renderers\":[{\"type\":\"object\",\"name\":\"GlyphRenderer\",\"id\":\"p1327\",\"attributes\":{\"data_source\":{\"type\":\"object\",\"name\":\"ColumnDataSource\",\"id\":\"p1321\",\"attributes\":{\"selected\":{\"type\":\"object\",\"name\":\"Selection\",\"id\":\"p1322\",\"attributes\":{\"indices\":[],\"line_indices\":[]}},\"selection_policy\":{\"type\":\"object\",\"name\":\"UnionRenderers\",\"id\":\"p1323\"},\"data\":{\"type\":\"map\",\"entries\":[[\"x\",{\"type\":\"ndarray\",\"array\":{\"type\":\"bytes\",\"data\":\"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\"},\"shape\":[260],\"dtype\":\"float64\",\"order\":\"little\"}],[\"y\",{\"type\":\"ndarray\",\"array\":{\"type\":\"bytes\",\"data\":\"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\"},\"shape\":[260],\"dtype\":\"float64\",\"order\":\"little\"}],[\"fill_color\",[\"#ffffff\",\"#fffeff\",\"#fffdff\",\"#fffcff\",\"#fffbff\",\"#fffaff\",\"#fff9ff\",\"#fff8ff\",\"#fff7ff\",\"#fff6ff\",\"#fff5ff\",\"#fff4ff\",\"#fff3ff\",\"#fff2ff\",\"#fff1ff\",\"#fff0ff\",\"#ffefff\",\"#ffeeff\",\"#ffedff\",\"#ffecff\",\"#ffebff\",\"#ffeaff\",\"#ffe9ff\",\"#ffe8ff\",\"#ffe7ff\",\"#ffe6ff\",\"#ffe5ff\",\"#ffe4ff\",\"#ffe3ff\",\"#ffe2ff\",\"#ffe1ff\",\"#ffe0ff\",\"#ffdfff\",\"#ffdeff\",\"#ffddff\",\"#ffdcff\",\"#ffdbff\",\"#ffdaff\",\"#ffd9ff\",\"#ffd8ff\",\"#ffd7ff\",\"#ffd6ff\",\"#ffd5ff\",\"#ffd4ff\",\"#ffd3ff\",\"#ffd2ff\",\"#ffd1ff\",\"#ffd0ff\",\"#ffcfff\",\"#ffceff\",\"#ffcdff\",\"#ffccff\",\"#ffcbff\",\"#ffcaff\",\"#ffc9ff\",\"#ffc8ff\",\"#ffc7ff\",\"#ffc6ff\",\"#ffc5ff\",\"#ffc4ff\",\"#ffc3ff\",\"#ffc2ff\",\"#ffc1ff\",\"#ffc0ff\",\"#ffbfff\",\"#ffbfff\",\"#ffbeff\",\"#ffbdff\",\"#ffbcff\",\"#ffbbff\",\"#ffbaff\",\"#ffb9ff\",\"#ffb8ff\",\"#ffb7ff\",\"#ffb6ff\",\"#ffb5ff\",\"#ffb4ff\",\"#ffb3ff\",\"#ffb2ff\",\"#ffb1ff\",\"#ffb0ff\",\"#ffafff\",\"#ffaeff\",\"#ffadff\",\"#ffacff\",\"#ffabff\",\"#ffaaff\",\"#ffa9ff\",\"#ffa8ff\",\"#ffa7ff\",\"#ffa6ff\",\"#ffa5ff\",\"#ffa4ff\",\"#ffa3ff\",\"#ffa2ff\",\"#ffa1ff\",\"#ffa0ff\",\"#ff9fff\",\"#ff9eff\",\"#ff9dff\",\"#ff9cff\",\"#ff9bff\",\"#ff9aff\",\"#ff99ff\",\"#ff98ff\",\"#ff97ff\",\"#ff96ff\",\"#ff95ff\",\"#ff94ff\",\"#ff93ff\",\"#ff92ff\",\"#ff91ff\",\"#ff90ff\",\"#ff8fff\",\"#ff8eff\",\"#ff8dff\",\"#ff8cff\",\"#ff8bff\",\"#ff8aff\",\"#ff89ff\",\"#ff88ff\",\"#ff87ff\",\"#ff86ff\",\"#ff85ff\",\"#ff84ff\",\"#ff83ff\",\"#ff82ff\",\"#ff81ff\",\"#ff80ff\",\"#ff80ff\",\"#ff7fff\",\"#ff7eff\",\"#ff7dff\",\"#ff7cff\",\"#ff7bff\",\"#ff7aff\",\"#ff79ff\",\"#ff78ff\",\"#ff77ff\",\"#ff76ff\",\"#ff75ff\",\"#ff74ff\",\"#ff73ff\",\"#ff72ff\",\"#ff71ff\",\"#ff70ff\",\"#ff6fff\",\"#ff6eff\",\"#ff6dff\",\"#ff6cff\",\"#ff6bff\",\"#ff6aff\",\"#ff69ff\",\"#ff68ff\",\"#ff67ff\",\"#ff66ff\",\"#ff65ff\",\"#ff64ff\",\"#ff63ff\",\"#ff62ff\",\"#ff61ff\",\"#ff60ff\",\"#ff5fff\",\"#ff5eff\",\"#ff5dff\",\"#ff5cff\",\"#ff5bff\",\"#ff5aff\",\"#ff59ff\",\"#ff58ff\",\"#ff57ff\",\"#ff56ff\",\"#ff55ff\",\"#ff54ff\",\"#ff53ff\",\"#ff52ff\",\"#ff51ff\",\"#ff50ff\",\"#ff4fff\",\"#ff4eff\",\"#ff4dff\",\"#ff4cff\",\"#ff4bff\",\"#ff4aff\",\"#ff49ff\",\"#ff48ff\",\"#ff47ff\",\"#ff46ff\",\"#ff45ff\",\"#ff44ff\",\"#ff43ff\",\"#ff42ff\",\"#ff41ff\",\"#ff40ff\",\"#ff3fff\",\"#ff3eff\",\"#ff3dff\",\"#ff3cff\",\"#ff3bff\",\"#ff3bff\",\"#ff3aff\",\"#ff39ff\",\"#ff38ff\",\"#ff37ff\",\"#ff36ff\",\"#ff35ff\",\"#ff34ff\",\"#ff33ff\",\"#ff32ff\",\"#ff31ff\",\"#ff30ff\",\"#ff2fff\",\"#ff2eff\",\"#ff2dff\",\"#ff2cff\",\"#ff2bff\",\"#ff2aff\",\"#ff29ff\",\"#ff28ff\",\"#ff27ff\",\"#ff26ff\",\"#ff25ff\",\"#ff24ff\",\"#ff23ff\",\"#ff22ff\",\"#ff21ff\",\"#ff20ff\",\"#ff1fff\",\"#ff1eff\",\"#ff1dff\",\"#ff1cff\",\"#ff1bff\",\"#ff1aff\",\"#ff19ff\",\"#ff18ff\",\"#ff17ff\",\"#ff16ff\",\"#ff15ff\",\"#ff14ff\",\"#ff13ff\",\"#ff12ff\",\"#ff11ff\",\"#ff10ff\",\"#ff0fff\",\"#ff0eff\",\"#ff0dff\",\"#ff0cff\",\"#ff0bff\",\"#ff0aff\",\"#ff09ff\",\"#ff08ff\",\"#ff07ff\",\"#ff06ff\",\"#ff05ff\",\"#ff04ff\",\"#ff03ff\",\"#ff02ff\",\"#ff01ff\",\"#ff00ff\",\"#ff00ff\"]]]}}},\"view\":{\"type\":\"object\",\"name\":\"CDSView\",\"id\":\"p1328\",\"attributes\":{\"filter\":{\"type\":\"object\",\"name\":\"AllIndices\",\"id\":\"p1329\"}}},\"glyph\":{\"type\":\"object\",\"name\":\"Scatter\",\"id\":\"p1324\",\"attributes\":{\"x\":{\"type\":\"field\",\"field\":\"x\"},\"y\":{\"type\":\"field\",\"field\":\"y\"},\"size\":{\"type\":\"value\",\"value\":7},\"line_color\":{\"type\":\"value\",\"value\":\"red\"},\"fill_color\":{\"type\":\"field\",\"field\":\"fill_color\"}}},\"nonselection_glyph\":{\"type\":\"object\",\"name\":\"Scatter\",\"id\":\"p1325\",\"attributes\":{\"x\":{\"type\":\"field\",\"field\":\"x\"},\"y\":{\"type\":\"field\",\"field\":\"y\"},\"size\":{\"type\":\"value\",\"value\":7},\"line_color\":{\"type\":\"value\",\"value\":\"red\"},\"line_alpha\":{\"type\":\"value\",\"value\":0.1},\"fill_color\":{\"type\":\"field\",\"field\":\"fill_color\"},\"fill_alpha\":{\"type\":\"value\",\"value\":0.1},\"hatch_alpha\":{\"type\":\"value\",\"value\":0.1}}},\"muted_glyph\":{\"type\":\"object\",\"name\":\"Scatter\",\"id\":\"p1326\",\"attributes\":{\"x\":{\"type\":\"field\",\"field\":\"x\"},\"y\":{\"type\":\"field\",\"field\":\"y\"},\"size\":{\"type\":\"value\",\"value\":7},\"line_color\":{\"type\":\"value\",\"value\":\"red\"},\"line_alpha\":{\"type\":\"value\",\"value\":0.2},\"fill_color\":{\"type\":\"field\",\"field\":\"fill_color\"},\"fill_alpha\":{\"type\":\"value\",\"value\":0.2},\"hatch_alpha\":{\"type\":\"value\",\"value\":0.2}}}}},{\"type\":\"object\",\"name\":\"GlyphRenderer\",\"id\":\"p1336\",\"attributes\":{\"data_source\":{\"type\":\"object\",\"name\":\"ColumnDataSource\",\"id\":\"p1330\",\"attributes\":{\"selected\":{\"type\":\"object\",\"name\":\"Selection\",\"id\":\"p1331\",\"attributes\":{\"indices\":[],\"line_indices\":[]}},\"selection_policy\":{\"type\":\"object\",\"name\":\"UnionRenderers\",\"id\":\"p1332\"},\"data\":{\"type\":\"map\",\"entries\":[[\"x\",{\"type\":\"ndarray\",\"array\":{\"type\":\"bytes\",\"data\":\"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\"},\"shape\":[260],\"dtype\":\"float64\",\"order\":\"little\"}],[\"y\",{\"type\":\"ndarray\",\"array\":{\"type\":\"bytes\",\"data\":\"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\"},\"shape\":[260],\"dtype\":\"float64\",\"order\":\"little\"}]]}}},\"view\":{\"type\":\"object\",\"name\":\"CDSView\",\"id\":\"p1337\",\"attributes\":{\"filter\":{\"type\":\"object\",\"name\":\"AllIndices\",\"id\":\"p1338\"}}},\"glyph\":{\"type\":\"object\",\"name\":\"Line\",\"id\":\"p1333\",\"attributes\":{\"x\":{\"type\":\"field\",\"field\":\"x\"},\"y\":{\"type\":\"field\",\"field\":\"y\"},\"line_color\":\"blue\"}},\"nonselection_glyph\":{\"type\":\"object\",\"name\":\"Line\",\"id\":\"p1334\",\"attributes\":{\"x\":{\"type\":\"field\",\"field\":\"x\"},\"y\":{\"type\":\"field\",\"field\":\"y\"},\"line_color\":\"blue\",\"line_alpha\":0.1}},\"muted_glyph\":{\"type\":\"object\",\"name\":\"Line\",\"id\":\"p1335\",\"attributes\":{\"x\":{\"type\":\"field\",\"field\":\"x\"},\"y\":{\"type\":\"field\",\"field\":\"y\"},\"line_color\":\"blue\",\"line_alpha\":0.2}}}}],\"toolbar\":{\"type\":\"object\",\"name\":\"Toolbar\",\"id\":\"p1295\",\"attributes\":{\"tools\":[{\"type\":\"object\",\"name\":\"PanTool\",\"id\":\"p1308\"},{\"type\":\"object\",\"name\":\"WheelZoomTool\",\"id\":\"p1309\",\"attributes\":{\"renderers\":\"auto\"}},{\"type\":\"object\",\"name\":\"BoxZoomTool\",\"id\":\"p1310\",\"attributes\":{\"dimensions\":\"both\",\"overlay\":{\"type\":\"object\",\"name\":\"BoxAnnotation\",\"id\":\"p1311\",\"attributes\":{\"syncable\":false,\"line_color\":\"black\",\"line_alpha\":1.0,\"line_width\":2,\"line_dash\":[4,4],\"fill_color\":\"lightgrey\",\"fill_alpha\":0.5,\"level\":\"overlay\",\"visible\":false,\"left\":{\"type\":\"number\",\"value\":\"nan\"},\"right\":{\"type\":\"number\",\"value\":\"nan\"},\"top\":{\"type\":\"number\",\"value\":\"nan\"},\"bottom\":{\"type\":\"number\",\"value\":\"nan\"},\"left_units\":\"canvas\",\"right_units\":\"canvas\",\"top_units\":\"canvas\",\"bottom_units\":\"canvas\",\"handles\":{\"type\":\"object\",\"name\":\"BoxInteractionHandles\",\"id\":\"p1317\",\"attributes\":{\"all\":{\"type\":\"object\",\"name\":\"AreaVisuals\",\"id\":\"p1316\",\"attributes\":{\"fill_color\":\"white\",\"hover_fill_color\":\"lightgray\"}}}}}}}},{\"type\":\"object\",\"name\":\"SaveTool\",\"id\":\"p1318\"},{\"type\":\"object\",\"name\":\"ResetTool\",\"id\":\"p1319\"},{\"type\":\"object\",\"name\":\"HelpTool\",\"id\":\"p1320\"}]}},\"left\":[{\"type\":\"object\",\"name\":\"LinearAxis\",\"id\":\"p1303\",\"attributes\":{\"ticker\":{\"type\":\"object\",\"name\":\"BasicTicker\",\"id\":\"p1304\",\"attributes\":{\"mantissas\":[1,2,5]}},\"formatter\":{\"type\":\"object\",\"name\":\"BasicTickFormatter\",\"id\":\"p1305\"},\"axis_label\":\"Dec(deg)\",\"major_label_policy\":{\"type\":\"object\",\"name\":\"AllLabels\",\"id\":\"p1306\"}}}],\"below\":[{\"type\":\"object\",\"name\":\"LinearAxis\",\"id\":\"p1298\",\"attributes\":{\"ticker\":{\"type\":\"object\",\"name\":\"BasicTicker\",\"id\":\"p1299\",\"attributes\":{\"mantissas\":[1,2,5]}},\"formatter\":{\"type\":\"object\",\"name\":\"BasicTickFormatter\",\"id\":\"p1300\"},\"axis_label\":\"RA(hours)\",\"major_label_policy\":{\"type\":\"object\",\"name\":\"AllLabels\",\"id\":\"p1301\"}}}],\"center\":[{\"type\":\"object\",\"name\":\"Grid\",\"id\":\"p1302\",\"attributes\":{\"axis\":{\"id\":\"p1298\"}}},{\"type\":\"object\",\"name\":\"Grid\",\"id\":\"p1307\",\"attributes\":{\"dimension\":1,\"axis\":{\"id\":\"p1303\"}}}]}}]}};\n",
       "  const render_items = [{\"docid\":\"c0ab33af-d52c-4137-9190-b9badedbe1fa\",\"roots\":{\"p1286\":\"f8cff0fe-bff5-423a-980c-b0add419e2cc\"},\"root_ids\":[\"p1286\"]}];\n",
       "  void root.Bokeh.embed.embed_items_notebook(docs_json, render_items);\n",
       "  }\n",
       "  if (root.Bokeh !== undefined) {\n",
       "    embed_document(root);\n",
       "  } else {\n",
       "    let attempts = 0;\n",
       "    const timer = setInterval(function(root) {\n",
       "      if (root.Bokeh !== undefined) {\n",
       "        clearInterval(timer);\n",
       "        embed_document(root);\n",
       "      } else {\n",
       "        attempts++;\n",
       "        if (attempts > 100) {\n",
       "          clearInterval(timer);\n",
       "          console.log(\"Bokeh: ERROR: Unable to run BokehJS code because BokehJS library is missing\");\n",
       "        }\n",
       "      }\n",
       "    }, 10, root)\n",
       "  }\n",
       "})(window);"
      ],
      "application/vnd.bokehjs_exec.v0+json": ""
     },
     "metadata": {
      "application/vnd.bokehjs_exec.v0+json": {
       "id": "p1286"
      }
     },
     "output_type": "display_data"
    }
   ],
   "source": [
    "colors = get_colors(t_max_dec.tt)\n",
    "fig = figure(title=\"Moon standstills\", x_axis_label=\"RA(hours)\", y_axis_label=\"Dec(deg)\", width=1100)\n",
    "fig.scatter(ra.hours, dec.degrees, fill_color=colors, line_color=\"red\", size=7)\n",
    "fig.line(ra.hours, dec.degrees, line_color=\"blue\")\n",
    "show(fig)"
   ]
  },
  {
   "cell_type": "code",
   "execution_count": 16,
   "id": "0a003db2-7678-421b-97e0-247807964e12",
   "metadata": {},
   "outputs": [
    {
     "data": {
      "text/html": [
       "\n",
       "  <div id=\"b0abec79-0260-43d6-b948-6e662f9ead62\" data-root-id=\"p1343\" style=\"display: contents;\"></div>\n"
      ]
     },
     "metadata": {},
     "output_type": "display_data"
    },
    {
     "data": {
      "application/javascript": [
       "(function(root) {\n",
       "  function embed_document(root) {\n",
       "  const docs_json = {\"0bc38e7d-6076-4f28-9269-2df7aaeae99c\":{\"version\":\"3.7.2\",\"title\":\"Bokeh Application\",\"roots\":[{\"type\":\"object\",\"name\":\"Figure\",\"id\":\"p1343\",\"attributes\":{\"width\":1100,\"x_range\":{\"type\":\"object\",\"name\":\"DataRange1d\",\"id\":\"p1344\"},\"y_range\":{\"type\":\"object\",\"name\":\"DataRange1d\",\"id\":\"p1345\"},\"x_scale\":{\"type\":\"object\",\"name\":\"LinearScale\",\"id\":\"p1353\"},\"y_scale\":{\"type\":\"object\",\"name\":\"LinearScale\",\"id\":\"p1354\"},\"title\":{\"type\":\"object\",\"name\":\"Title\",\"id\":\"p1346\",\"attributes\":{\"text\":\"Moon standstills Dec, starting at 2005-06-21 00:00:00 TT\"}},\"renderers\":[{\"type\":\"object\",\"name\":\"GlyphRenderer\",\"id\":\"p1384\",\"attributes\":{\"data_source\":{\"type\":\"object\",\"name\":\"ColumnDataSource\",\"id\":\"p1378\",\"attributes\":{\"selected\":{\"type\":\"object\",\"name\":\"Selection\",\"id\":\"p1379\",\"attributes\":{\"indices\":[],\"line_indices\":[]}},\"selection_policy\":{\"type\":\"object\",\"name\":\"UnionRenderers\",\"id\":\"p1380\"},\"data\":{\"type\":\"map\",\"entries\":[[\"x\",{\"type\":\"ndarray\",\"array\":{\"type\":\"bytes\",\"data\":\"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\"},\"shape\":[260],\"dtype\":\"float64\",\"order\":\"little\"}],[\"y\",{\"type\":\"ndarray\",\"array\":{\"type\":\"bytes\",\"data\":\"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\"},\"shape\":[260],\"dtype\":\"float64\",\"order\":\"little\"}],[\"fill_color\",[\"#ffffff\",\"#fffeff\",\"#fffdff\",\"#fffcff\",\"#fffbff\",\"#fffaff\",\"#fff9ff\",\"#fff8ff\",\"#fff7ff\",\"#fff6ff\",\"#fff5ff\",\"#fff4ff\",\"#fff3ff\",\"#fff2ff\",\"#fff1ff\",\"#fff0ff\",\"#ffefff\",\"#ffeeff\",\"#ffedff\",\"#ffecff\",\"#ffebff\",\"#ffeaff\",\"#ffe9ff\",\"#ffe8ff\",\"#ffe7ff\",\"#ffe6ff\",\"#ffe5ff\",\"#ffe4ff\",\"#ffe3ff\",\"#ffe2ff\",\"#ffe1ff\",\"#ffe0ff\",\"#ffdfff\",\"#ffdeff\",\"#ffddff\",\"#ffdcff\",\"#ffdbff\",\"#ffdaff\",\"#ffd9ff\",\"#ffd8ff\",\"#ffd7ff\",\"#ffd6ff\",\"#ffd5ff\",\"#ffd4ff\",\"#ffd3ff\",\"#ffd2ff\",\"#ffd1ff\",\"#ffd0ff\",\"#ffcfff\",\"#ffceff\",\"#ffcdff\",\"#ffccff\",\"#ffcbff\",\"#ffcaff\",\"#ffc9ff\",\"#ffc8ff\",\"#ffc7ff\",\"#ffc6ff\",\"#ffc5ff\",\"#ffc4ff\",\"#ffc3ff\",\"#ffc2ff\",\"#ffc1ff\",\"#ffc0ff\",\"#ffbfff\",\"#ffbfff\",\"#ffbeff\",\"#ffbdff\",\"#ffbcff\",\"#ffbbff\",\"#ffbaff\",\"#ffb9ff\",\"#ffb8ff\",\"#ffb7ff\",\"#ffb6ff\",\"#ffb5ff\",\"#ffb4ff\",\"#ffb3ff\",\"#ffb2ff\",\"#ffb1ff\",\"#ffb0ff\",\"#ffafff\",\"#ffaeff\",\"#ffadff\",\"#ffacff\",\"#ffabff\",\"#ffaaff\",\"#ffa9ff\",\"#ffa8ff\",\"#ffa7ff\",\"#ffa6ff\",\"#ffa5ff\",\"#ffa4ff\",\"#ffa3ff\",\"#ffa2ff\",\"#ffa1ff\",\"#ffa0ff\",\"#ff9fff\",\"#ff9eff\",\"#ff9dff\",\"#ff9cff\",\"#ff9bff\",\"#ff9aff\",\"#ff99ff\",\"#ff98ff\",\"#ff97ff\",\"#ff96ff\",\"#ff95ff\",\"#ff94ff\",\"#ff93ff\",\"#ff92ff\",\"#ff91ff\",\"#ff90ff\",\"#ff8fff\",\"#ff8eff\",\"#ff8dff\",\"#ff8cff\",\"#ff8bff\",\"#ff8aff\",\"#ff89ff\",\"#ff88ff\",\"#ff87ff\",\"#ff86ff\",\"#ff85ff\",\"#ff84ff\",\"#ff83ff\",\"#ff82ff\",\"#ff81ff\",\"#ff80ff\",\"#ff80ff\",\"#ff7fff\",\"#ff7eff\",\"#ff7dff\",\"#ff7cff\",\"#ff7bff\",\"#ff7aff\",\"#ff79ff\",\"#ff78ff\",\"#ff77ff\",\"#ff76ff\",\"#ff75ff\",\"#ff74ff\",\"#ff73ff\",\"#ff72ff\",\"#ff71ff\",\"#ff70ff\",\"#ff6fff\",\"#ff6eff\",\"#ff6dff\",\"#ff6cff\",\"#ff6bff\",\"#ff6aff\",\"#ff69ff\",\"#ff68ff\",\"#ff67ff\",\"#ff66ff\",\"#ff65ff\",\"#ff64ff\",\"#ff63ff\",\"#ff62ff\",\"#ff61ff\",\"#ff60ff\",\"#ff5fff\",\"#ff5eff\",\"#ff5dff\",\"#ff5cff\",\"#ff5bff\",\"#ff5aff\",\"#ff59ff\",\"#ff58ff\",\"#ff57ff\",\"#ff56ff\",\"#ff55ff\",\"#ff54ff\",\"#ff53ff\",\"#ff52ff\",\"#ff51ff\",\"#ff50ff\",\"#ff4fff\",\"#ff4eff\",\"#ff4dff\",\"#ff4cff\",\"#ff4bff\",\"#ff4aff\",\"#ff49ff\",\"#ff48ff\",\"#ff47ff\",\"#ff46ff\",\"#ff45ff\",\"#ff44ff\",\"#ff43ff\",\"#ff42ff\",\"#ff41ff\",\"#ff40ff\",\"#ff3fff\",\"#ff3eff\",\"#ff3dff\",\"#ff3cff\",\"#ff3bff\",\"#ff3bff\",\"#ff3aff\",\"#ff39ff\",\"#ff38ff\",\"#ff37ff\",\"#ff36ff\",\"#ff35ff\",\"#ff34ff\",\"#ff33ff\",\"#ff32ff\",\"#ff31ff\",\"#ff30ff\",\"#ff2fff\",\"#ff2eff\",\"#ff2dff\",\"#ff2cff\",\"#ff2bff\",\"#ff2aff\",\"#ff29ff\",\"#ff28ff\",\"#ff27ff\",\"#ff26ff\",\"#ff25ff\",\"#ff24ff\",\"#ff23ff\",\"#ff22ff\",\"#ff21ff\",\"#ff20ff\",\"#ff1fff\",\"#ff1eff\",\"#ff1dff\",\"#ff1cff\",\"#ff1bff\",\"#ff1aff\",\"#ff19ff\",\"#ff18ff\",\"#ff17ff\",\"#ff16ff\",\"#ff15ff\",\"#ff14ff\",\"#ff13ff\",\"#ff12ff\",\"#ff11ff\",\"#ff10ff\",\"#ff0fff\",\"#ff0eff\",\"#ff0dff\",\"#ff0cff\",\"#ff0bff\",\"#ff0aff\",\"#ff09ff\",\"#ff08ff\",\"#ff07ff\",\"#ff06ff\",\"#ff05ff\",\"#ff04ff\",\"#ff03ff\",\"#ff02ff\",\"#ff01ff\",\"#ff00ff\",\"#ff00ff\"]]]}}},\"view\":{\"type\":\"object\",\"name\":\"CDSView\",\"id\":\"p1385\",\"attributes\":{\"filter\":{\"type\":\"object\",\"name\":\"AllIndices\",\"id\":\"p1386\"}}},\"glyph\":{\"type\":\"object\",\"name\":\"Scatter\",\"id\":\"p1381\",\"attributes\":{\"x\":{\"type\":\"field\",\"field\":\"x\"},\"y\":{\"type\":\"field\",\"field\":\"y\"},\"size\":{\"type\":\"value\",\"value\":7},\"line_color\":{\"type\":\"value\",\"value\":\"red\"},\"fill_color\":{\"type\":\"field\",\"field\":\"fill_color\"}}},\"nonselection_glyph\":{\"type\":\"object\",\"name\":\"Scatter\",\"id\":\"p1382\",\"attributes\":{\"x\":{\"type\":\"field\",\"field\":\"x\"},\"y\":{\"type\":\"field\",\"field\":\"y\"},\"size\":{\"type\":\"value\",\"value\":7},\"line_color\":{\"type\":\"value\",\"value\":\"red\"},\"line_alpha\":{\"type\":\"value\",\"value\":0.1},\"fill_color\":{\"type\":\"field\",\"field\":\"fill_color\"},\"fill_alpha\":{\"type\":\"value\",\"value\":0.1},\"hatch_alpha\":{\"type\":\"value\",\"value\":0.1}}},\"muted_glyph\":{\"type\":\"object\",\"name\":\"Scatter\",\"id\":\"p1383\",\"attributes\":{\"x\":{\"type\":\"field\",\"field\":\"x\"},\"y\":{\"type\":\"field\",\"field\":\"y\"},\"size\":{\"type\":\"value\",\"value\":7},\"line_color\":{\"type\":\"value\",\"value\":\"red\"},\"line_alpha\":{\"type\":\"value\",\"value\":0.2},\"fill_color\":{\"type\":\"field\",\"field\":\"fill_color\"},\"fill_alpha\":{\"type\":\"value\",\"value\":0.2},\"hatch_alpha\":{\"type\":\"value\",\"value\":0.2}}}}},{\"type\":\"object\",\"name\":\"GlyphRenderer\",\"id\":\"p1393\",\"attributes\":{\"data_source\":{\"type\":\"object\",\"name\":\"ColumnDataSource\",\"id\":\"p1387\",\"attributes\":{\"selected\":{\"type\":\"object\",\"name\":\"Selection\",\"id\":\"p1388\",\"attributes\":{\"indices\":[],\"line_indices\":[]}},\"selection_policy\":{\"type\":\"object\",\"name\":\"UnionRenderers\",\"id\":\"p1389\"},\"data\":{\"type\":\"map\",\"entries\":[[\"x\",{\"type\":\"ndarray\",\"array\":{\"type\":\"bytes\",\"data\":\"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\"},\"shape\":[260],\"dtype\":\"float64\",\"order\":\"little\"}],[\"y\",{\"type\":\"ndarray\",\"array\":{\"type\":\"bytes\",\"data\":\"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\"},\"shape\":[260],\"dtype\":\"float64\",\"order\":\"little\"}]]}}},\"view\":{\"type\":\"object\",\"name\":\"CDSView\",\"id\":\"p1394\",\"attributes\":{\"filter\":{\"type\":\"object\",\"name\":\"AllIndices\",\"id\":\"p1395\"}}},\"glyph\":{\"type\":\"object\",\"name\":\"Line\",\"id\":\"p1390\",\"attributes\":{\"x\":{\"type\":\"field\",\"field\":\"x\"},\"y\":{\"type\":\"field\",\"field\":\"y\"},\"line_color\":\"blue\"}},\"nonselection_glyph\":{\"type\":\"object\",\"name\":\"Line\",\"id\":\"p1391\",\"attributes\":{\"x\":{\"type\":\"field\",\"field\":\"x\"},\"y\":{\"type\":\"field\",\"field\":\"y\"},\"line_color\":\"blue\",\"line_alpha\":0.1}},\"muted_glyph\":{\"type\":\"object\",\"name\":\"Line\",\"id\":\"p1392\",\"attributes\":{\"x\":{\"type\":\"field\",\"field\":\"x\"},\"y\":{\"type\":\"field\",\"field\":\"y\"},\"line_color\":\"blue\",\"line_alpha\":0.2}}}}],\"toolbar\":{\"type\":\"object\",\"name\":\"Toolbar\",\"id\":\"p1352\",\"attributes\":{\"tools\":[{\"type\":\"object\",\"name\":\"PanTool\",\"id\":\"p1365\"},{\"type\":\"object\",\"name\":\"WheelZoomTool\",\"id\":\"p1366\",\"attributes\":{\"renderers\":\"auto\"}},{\"type\":\"object\",\"name\":\"BoxZoomTool\",\"id\":\"p1367\",\"attributes\":{\"dimensions\":\"both\",\"overlay\":{\"type\":\"object\",\"name\":\"BoxAnnotation\",\"id\":\"p1368\",\"attributes\":{\"syncable\":false,\"line_color\":\"black\",\"line_alpha\":1.0,\"line_width\":2,\"line_dash\":[4,4],\"fill_color\":\"lightgrey\",\"fill_alpha\":0.5,\"level\":\"overlay\",\"visible\":false,\"left\":{\"type\":\"number\",\"value\":\"nan\"},\"right\":{\"type\":\"number\",\"value\":\"nan\"},\"top\":{\"type\":\"number\",\"value\":\"nan\"},\"bottom\":{\"type\":\"number\",\"value\":\"nan\"},\"left_units\":\"canvas\",\"right_units\":\"canvas\",\"top_units\":\"canvas\",\"bottom_units\":\"canvas\",\"handles\":{\"type\":\"object\",\"name\":\"BoxInteractionHandles\",\"id\":\"p1374\",\"attributes\":{\"all\":{\"type\":\"object\",\"name\":\"AreaVisuals\",\"id\":\"p1373\",\"attributes\":{\"fill_color\":\"white\",\"hover_fill_color\":\"lightgray\"}}}}}}}},{\"type\":\"object\",\"name\":\"SaveTool\",\"id\":\"p1375\"},{\"type\":\"object\",\"name\":\"ResetTool\",\"id\":\"p1376\"},{\"type\":\"object\",\"name\":\"HelpTool\",\"id\":\"p1377\"}]}},\"left\":[{\"type\":\"object\",\"name\":\"LinearAxis\",\"id\":\"p1360\",\"attributes\":{\"ticker\":{\"type\":\"object\",\"name\":\"BasicTicker\",\"id\":\"p1361\",\"attributes\":{\"mantissas\":[1,2,5]}},\"formatter\":{\"type\":\"object\",\"name\":\"BasicTickFormatter\",\"id\":\"p1362\"},\"axis_label\":\"Dec(deg)\",\"major_label_policy\":{\"type\":\"object\",\"name\":\"AllLabels\",\"id\":\"p1363\"}}}],\"below\":[{\"type\":\"object\",\"name\":\"LinearAxis\",\"id\":\"p1355\",\"attributes\":{\"ticker\":{\"type\":\"object\",\"name\":\"BasicTicker\",\"id\":\"p1356\",\"attributes\":{\"mantissas\":[1,2,5]}},\"formatter\":{\"type\":\"object\",\"name\":\"BasicTickFormatter\",\"id\":\"p1357\"},\"axis_label\":\"days\",\"major_label_policy\":{\"type\":\"object\",\"name\":\"AllLabels\",\"id\":\"p1358\"}}}],\"center\":[{\"type\":\"object\",\"name\":\"Grid\",\"id\":\"p1359\",\"attributes\":{\"axis\":{\"id\":\"p1355\"}}},{\"type\":\"object\",\"name\":\"Grid\",\"id\":\"p1364\",\"attributes\":{\"dimension\":1,\"axis\":{\"id\":\"p1360\"}}}]}}]}};\n",
       "  const render_items = [{\"docid\":\"0bc38e7d-6076-4f28-9269-2df7aaeae99c\",\"roots\":{\"p1343\":\"b0abec79-0260-43d6-b948-6e662f9ead62\"},\"root_ids\":[\"p1343\"]}];\n",
       "  void root.Bokeh.embed.embed_items_notebook(docs_json, render_items);\n",
       "  }\n",
       "  if (root.Bokeh !== undefined) {\n",
       "    embed_document(root);\n",
       "  } else {\n",
       "    let attempts = 0;\n",
       "    const timer = setInterval(function(root) {\n",
       "      if (root.Bokeh !== undefined) {\n",
       "        clearInterval(timer);\n",
       "        embed_document(root);\n",
       "      } else {\n",
       "        attempts++;\n",
       "        if (attempts > 100) {\n",
       "          clearInterval(timer);\n",
       "          console.log(\"Bokeh: ERROR: Unable to run BokehJS code because BokehJS library is missing\");\n",
       "        }\n",
       "      }\n",
       "    }, 10, root)\n",
       "  }\n",
       "})(window);"
      ],
      "application/vnd.bokehjs_exec.v0+json": ""
     },
     "metadata": {
      "application/vnd.bokehjs_exec.v0+json": {
       "id": "p1343"
      }
     },
     "output_type": "display_data"
    }
   ],
   "source": [
    "fig = figure(title=\"Moon standstills Dec, starting at \" + t_start.tt_strftime(), x_axis_label=\"days\", y_axis_label=\"Dec(deg)\", width=1100)\n",
    "fig.scatter(t_max_dec.tt - t_start.tt, dec.degrees, fill_color=colors, line_color=\"red\", size=7)\n",
    "fig.line(t_max_dec.tt - t_start.tt, dec.degrees, line_color=\"blue\")\n",
    "show(fig)"
   ]
  },
  {
   "cell_type": "code",
   "execution_count": 17,
   "id": "7035371e-41f1-4451-b6ea-e802260c4df2",
   "metadata": {},
   "outputs": [
    {
     "data": {
      "text/html": [
       "\n",
       "  <div id=\"bb58b95f-7f37-41bf-b80e-da10e1539012\" data-root-id=\"p1400\" style=\"display: contents;\"></div>\n"
      ]
     },
     "metadata": {},
     "output_type": "display_data"
    },
    {
     "data": {
      "application/javascript": [
       "(function(root) {\n",
       "  function embed_document(root) {\n",
       "  const docs_json = {\"1eaebb79-8a68-4220-ae21-857207afc11a\":{\"version\":\"3.7.2\",\"title\":\"Bokeh Application\",\"roots\":[{\"type\":\"object\",\"name\":\"Figure\",\"id\":\"p1400\",\"attributes\":{\"width\":1100,\"x_range\":{\"type\":\"object\",\"name\":\"DataRange1d\",\"id\":\"p1401\"},\"y_range\":{\"type\":\"object\",\"name\":\"DataRange1d\",\"id\":\"p1402\"},\"x_scale\":{\"type\":\"object\",\"name\":\"LinearScale\",\"id\":\"p1410\"},\"y_scale\":{\"type\":\"object\",\"name\":\"LinearScale\",\"id\":\"p1411\"},\"title\":{\"type\":\"object\",\"name\":\"Title\",\"id\":\"p1403\",\"attributes\":{\"text\":\"Moon standstills RA, starting at 2005-06-21 00:00:00 TT\"}},\"renderers\":[{\"type\":\"object\",\"name\":\"GlyphRenderer\",\"id\":\"p1441\",\"attributes\":{\"data_source\":{\"type\":\"object\",\"name\":\"ColumnDataSource\",\"id\":\"p1435\",\"attributes\":{\"selected\":{\"type\":\"object\",\"name\":\"Selection\",\"id\":\"p1436\",\"attributes\":{\"indices\":[],\"line_indices\":[]}},\"selection_policy\":{\"type\":\"object\",\"name\":\"UnionRenderers\",\"id\":\"p1437\"},\"data\":{\"type\":\"map\",\"entries\":[[\"x\",{\"type\":\"ndarray\",\"array\":{\"type\":\"bytes\",\"data\":\"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\"},\"shape\":[260],\"dtype\":\"float64\",\"order\":\"little\"}],[\"y\",{\"type\":\"ndarray\",\"array\":{\"type\":\"bytes\",\"data\":\"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\"},\"shape\":[260],\"dtype\":\"float64\",\"order\":\"little\"}],[\"fill_color\",[\"#ffffff\",\"#fffeff\",\"#fffdff\",\"#fffcff\",\"#fffbff\",\"#fffaff\",\"#fff9ff\",\"#fff8ff\",\"#fff7ff\",\"#fff6ff\",\"#fff5ff\",\"#fff4ff\",\"#fff3ff\",\"#fff2ff\",\"#fff1ff\",\"#fff0ff\",\"#ffefff\",\"#ffeeff\",\"#ffedff\",\"#ffecff\",\"#ffebff\",\"#ffeaff\",\"#ffe9ff\",\"#ffe8ff\",\"#ffe7ff\",\"#ffe6ff\",\"#ffe5ff\",\"#ffe4ff\",\"#ffe3ff\",\"#ffe2ff\",\"#ffe1ff\",\"#ffe0ff\",\"#ffdfff\",\"#ffdeff\",\"#ffddff\",\"#ffdcff\",\"#ffdbff\",\"#ffdaff\",\"#ffd9ff\",\"#ffd8ff\",\"#ffd7ff\",\"#ffd6ff\",\"#ffd5ff\",\"#ffd4ff\",\"#ffd3ff\",\"#ffd2ff\",\"#ffd1ff\",\"#ffd0ff\",\"#ffcfff\",\"#ffceff\",\"#ffcdff\",\"#ffccff\",\"#ffcbff\",\"#ffcaff\",\"#ffc9ff\",\"#ffc8ff\",\"#ffc7ff\",\"#ffc6ff\",\"#ffc5ff\",\"#ffc4ff\",\"#ffc3ff\",\"#ffc2ff\",\"#ffc1ff\",\"#ffc0ff\",\"#ffbfff\",\"#ffbfff\",\"#ffbeff\",\"#ffbdff\",\"#ffbcff\",\"#ffbbff\",\"#ffbaff\",\"#ffb9ff\",\"#ffb8ff\",\"#ffb7ff\",\"#ffb6ff\",\"#ffb5ff\",\"#ffb4ff\",\"#ffb3ff\",\"#ffb2ff\",\"#ffb1ff\",\"#ffb0ff\",\"#ffafff\",\"#ffaeff\",\"#ffadff\",\"#ffacff\",\"#ffabff\",\"#ffaaff\",\"#ffa9ff\",\"#ffa8ff\",\"#ffa7ff\",\"#ffa6ff\",\"#ffa5ff\",\"#ffa4ff\",\"#ffa3ff\",\"#ffa2ff\",\"#ffa1ff\",\"#ffa0ff\",\"#ff9fff\",\"#ff9eff\",\"#ff9dff\",\"#ff9cff\",\"#ff9bff\",\"#ff9aff\",\"#ff99ff\",\"#ff98ff\",\"#ff97ff\",\"#ff96ff\",\"#ff95ff\",\"#ff94ff\",\"#ff93ff\",\"#ff92ff\",\"#ff91ff\",\"#ff90ff\",\"#ff8fff\",\"#ff8eff\",\"#ff8dff\",\"#ff8cff\",\"#ff8bff\",\"#ff8aff\",\"#ff89ff\",\"#ff88ff\",\"#ff87ff\",\"#ff86ff\",\"#ff85ff\",\"#ff84ff\",\"#ff83ff\",\"#ff82ff\",\"#ff81ff\",\"#ff80ff\",\"#ff80ff\",\"#ff7fff\",\"#ff7eff\",\"#ff7dff\",\"#ff7cff\",\"#ff7bff\",\"#ff7aff\",\"#ff79ff\",\"#ff78ff\",\"#ff77ff\",\"#ff76ff\",\"#ff75ff\",\"#ff74ff\",\"#ff73ff\",\"#ff72ff\",\"#ff71ff\",\"#ff70ff\",\"#ff6fff\",\"#ff6eff\",\"#ff6dff\",\"#ff6cff\",\"#ff6bff\",\"#ff6aff\",\"#ff69ff\",\"#ff68ff\",\"#ff67ff\",\"#ff66ff\",\"#ff65ff\",\"#ff64ff\",\"#ff63ff\",\"#ff62ff\",\"#ff61ff\",\"#ff60ff\",\"#ff5fff\",\"#ff5eff\",\"#ff5dff\",\"#ff5cff\",\"#ff5bff\",\"#ff5aff\",\"#ff59ff\",\"#ff58ff\",\"#ff57ff\",\"#ff56ff\",\"#ff55ff\",\"#ff54ff\",\"#ff53ff\",\"#ff52ff\",\"#ff51ff\",\"#ff50ff\",\"#ff4fff\",\"#ff4eff\",\"#ff4dff\",\"#ff4cff\",\"#ff4bff\",\"#ff4aff\",\"#ff49ff\",\"#ff48ff\",\"#ff47ff\",\"#ff46ff\",\"#ff45ff\",\"#ff44ff\",\"#ff43ff\",\"#ff42ff\",\"#ff41ff\",\"#ff40ff\",\"#ff3fff\",\"#ff3eff\",\"#ff3dff\",\"#ff3cff\",\"#ff3bff\",\"#ff3bff\",\"#ff3aff\",\"#ff39ff\",\"#ff38ff\",\"#ff37ff\",\"#ff36ff\",\"#ff35ff\",\"#ff34ff\",\"#ff33ff\",\"#ff32ff\",\"#ff31ff\",\"#ff30ff\",\"#ff2fff\",\"#ff2eff\",\"#ff2dff\",\"#ff2cff\",\"#ff2bff\",\"#ff2aff\",\"#ff29ff\",\"#ff28ff\",\"#ff27ff\",\"#ff26ff\",\"#ff25ff\",\"#ff24ff\",\"#ff23ff\",\"#ff22ff\",\"#ff21ff\",\"#ff20ff\",\"#ff1fff\",\"#ff1eff\",\"#ff1dff\",\"#ff1cff\",\"#ff1bff\",\"#ff1aff\",\"#ff19ff\",\"#ff18ff\",\"#ff17ff\",\"#ff16ff\",\"#ff15ff\",\"#ff14ff\",\"#ff13ff\",\"#ff12ff\",\"#ff11ff\",\"#ff10ff\",\"#ff0fff\",\"#ff0eff\",\"#ff0dff\",\"#ff0cff\",\"#ff0bff\",\"#ff0aff\",\"#ff09ff\",\"#ff08ff\",\"#ff07ff\",\"#ff06ff\",\"#ff05ff\",\"#ff04ff\",\"#ff03ff\",\"#ff02ff\",\"#ff01ff\",\"#ff00ff\",\"#ff00ff\"]]]}}},\"view\":{\"type\":\"object\",\"name\":\"CDSView\",\"id\":\"p1442\",\"attributes\":{\"filter\":{\"type\":\"object\",\"name\":\"AllIndices\",\"id\":\"p1443\"}}},\"glyph\":{\"type\":\"object\",\"name\":\"Scatter\",\"id\":\"p1438\",\"attributes\":{\"x\":{\"type\":\"field\",\"field\":\"x\"},\"y\":{\"type\":\"field\",\"field\":\"y\"},\"size\":{\"type\":\"value\",\"value\":7},\"line_color\":{\"type\":\"value\",\"value\":\"red\"},\"fill_color\":{\"type\":\"field\",\"field\":\"fill_color\"}}},\"nonselection_glyph\":{\"type\":\"object\",\"name\":\"Scatter\",\"id\":\"p1439\",\"attributes\":{\"x\":{\"type\":\"field\",\"field\":\"x\"},\"y\":{\"type\":\"field\",\"field\":\"y\"},\"size\":{\"type\":\"value\",\"value\":7},\"line_color\":{\"type\":\"value\",\"value\":\"red\"},\"line_alpha\":{\"type\":\"value\",\"value\":0.1},\"fill_color\":{\"type\":\"field\",\"field\":\"fill_color\"},\"fill_alpha\":{\"type\":\"value\",\"value\":0.1},\"hatch_alpha\":{\"type\":\"value\",\"value\":0.1}}},\"muted_glyph\":{\"type\":\"object\",\"name\":\"Scatter\",\"id\":\"p1440\",\"attributes\":{\"x\":{\"type\":\"field\",\"field\":\"x\"},\"y\":{\"type\":\"field\",\"field\":\"y\"},\"size\":{\"type\":\"value\",\"value\":7},\"line_color\":{\"type\":\"value\",\"value\":\"red\"},\"line_alpha\":{\"type\":\"value\",\"value\":0.2},\"fill_color\":{\"type\":\"field\",\"field\":\"fill_color\"},\"fill_alpha\":{\"type\":\"value\",\"value\":0.2},\"hatch_alpha\":{\"type\":\"value\",\"value\":0.2}}}}},{\"type\":\"object\",\"name\":\"GlyphRenderer\",\"id\":\"p1450\",\"attributes\":{\"data_source\":{\"type\":\"object\",\"name\":\"ColumnDataSource\",\"id\":\"p1444\",\"attributes\":{\"selected\":{\"type\":\"object\",\"name\":\"Selection\",\"id\":\"p1445\",\"attributes\":{\"indices\":[],\"line_indices\":[]}},\"selection_policy\":{\"type\":\"object\",\"name\":\"UnionRenderers\",\"id\":\"p1446\"},\"data\":{\"type\":\"map\",\"entries\":[[\"x\",{\"type\":\"ndarray\",\"array\":{\"type\":\"bytes\",\"data\":\"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\"},\"shape\":[260],\"dtype\":\"float64\",\"order\":\"little\"}],[\"y\",{\"type\":\"ndarray\",\"array\":{\"type\":\"bytes\",\"data\":\"PuMEOSroGEDaAIU8v8kYQMDr79kJtxhAf7WYxiyxGEDNIG/VXK4YQA9N2yvjoBhAwoZ0iGmDGEDunUDPbl8YQHCywBOZRBhAabBr+Z05GEASZ9CVDzcYQAw3B33hLhhAPsBzfKoYGECyCQaxU/gXQEI+01MB2hdAeyz35NbHF0BHt3gyRcIXQDp018ZpvxdAIh3ow7uxF0BRVmgz05MXQNYtDkiEbxdAOBsHnxpVF0AmT57hDksXQNuy5+A0SRdAHlVahh1BF0DZiY2fVioXQECyv/tvCRdA5uBejo7rFkAUXbOt79oWQEuxXiYM1xZAptYC/kvVFkAVUxOpPsgWQPpNVMSJqhZA/m9OsEeGFkA/LwW11GwWQFchWTDjZBZApeWiRhRlFkBCH7XMN14WQPHIqF/3RxZAB3R0Cm0nFkBKG5j5qwoWQBGeFNBo/BVAincDeGP7FUA0SsOgBPwVQPgRDhnq8BVA1THWlSHVFUAip463qbIVQISEyfpkmxVAd2FfULqWFUAi/8OgcJoVQKkSVTtTlhVAuWr3Q1OCFUAaxhp0HWQVQAdEuDMuShVAMKcOPYQ/FUD7E3l3jUIVQKFUlNnhRhVAT2bOZQ4/FUAEP5WE7iYVQIWNNemECBVAs6tf4VT1FED3dCOwPfUUQCXDT7PY/RRApDxhwOL9FECDUWhDcO0UQFSjFIIb0xRA8nqSKK69FEBGY6WAALgUQBCCwe08wBRAgL2nkXvJFEBpImL3AsYUQC2JqjtfshRAVscKgi6ZFECZhC4bmosUQCan3sF6kRRA2otldHugFEC6/eWgWqYUQHeMfPSkmhRAPjL82vKEFECTIL5++HQUQJogV++NdRRA9q1PR36EFED4N8w7cZQUQKy3RZMmlxRAPTsyzyGJFEC8HHvVvnUUQHq39MOxbhRADvp16hd8FEDdgPTps5MUQPx5gTc1ohRA4dxr9KudFEBr+AGc540UQHnIUOEdhBRAqYgVuQ2MFEBHHZ5BdqMUQOcg2v2HvBRAnErWNTTIFEA9SipVGMIUQCUQa/GetRRAWby17LC1FED3JwnQsMsUQFcktaPa7RRAk73qlM0HFUAvY5lpWw0VQHVdcHFVBRVANAIRpFwCFUBWGLPPBBIVQHVDj9GlMhVA5hmyPhZWFUDaY4xfYmwVQKCmSgTIbxVAsyvzgutqFUCt7Y770XEVQPGv6AzrjxVAR8iQqGy8FUCThrPNEuIVQGid8PVh8hVAhUB52GLyFUASWF4jjPUVQMKi+4isCxZA1V7PDCs0FkC+FGa2iGAWQBerziT/fxZAT8t1TZuLFkCB/98B3IwWQMLUfcRSmBZAIHmqs7e7FkDnG1xVou8WQNdPnEztHRdATvGiFyI2F0BylflrnDsXQAAhe2nyQRdASTKNVQRbF0C66o83tYcXQC4Tq2wyuRdAJPBo3rfdF0D8YwdCf+0XQFEB7PYX8RdA5Zy4pNf8F0DM9Us0ZSAYQGhIsjB2VhhAaiQfl1CIGECl9RYJZaMYQBC2KC/JqRhA7SJtutSuGED6IFgrpcUYQMtdYBT18BhAkhvXe0MiGUBP44Pzv0YZQEHA14i0VRlAMGu+nBJXGUAUCPT5al4ZQKXH7bMffBlAIavnI5itGUCiopsEBd0ZQFMZr9rO9RlAM+yi4mn4GUBP6gnJ7fcZQNrpPW+3BxpAz2IFUukrGkCBVSJIWVcaQOW9gRb4dhpAUYqFgfOAGkDQNAi1cnwaQLeFYUYxfBpAKbYYLv6PGkCWIlkjLLcaQPGilfeU3hpAVvwqDA/xGkBL5hH/1+waQGjt+yBd5BpA7JfX8tPqGkBi/77+qgQbQAHRL65BJhtAt1uTY6M9G0A+JDo3gkAbQLfE7e7QNBtA7YLXVEMsG0A4bb8SoTUbQHpvFDCoUBtA9V9npw9tG0Dfd+lCPXcbQKrdIqS9axtA80dBOmNbG0AA7DFMC1kbQCHkVCbYaBtAufo4Oe9/G0DrfbzHGI4bQCR5zjS/iRtATdN+Mc93G0CfiuCkcWgbQAAenqVZaRtAFnB9PwV6G0AMPkfh8IsbQAu9ReryjRtAWruVfVB8G0AjwAZ72GUbQLtlpw6PXBtA8ZKHbHRkG0C5Y0ci6HIbQDipyBb7eBtA6uuXf11uG0DvV62colcbQIutKHZPQxtAMv2uk+o9G0Ame/ua30YbQA7ES92pUBtAZxXtMOhLG0BxtI0UTzUbQAj8aRkcGhtA1qdGGDsLG0A2FQe84AwbQGzpR+nJFBtAYVU6up8UG0BqVXJR7gQbQDSPYYlJ6hpA31WWvvnRGkAvYoGBdscaQESxXb5ryhpAlK6IYEXOGkBdv7kng8QaQM2lgmT5qRpAkVNQddSKGkAdQg99JHcaQGq+VsaNcxpAIJHQVXl2GkAvuuoy0HEaQOANODdgXhpA6e5BxrxAGkB3+Vj6YiUaQG3R57r2FhpAWZEjIW0VGkDNUtCcJxUaQMe6PnIhCBpAVvHAmPrqGUCtNbOGLMkZQE50aJ8xshlA9Mjqx/qqGUB3R97QjqoZQEXg5mj4ohlAQZh5yhONGUDTCrNYoW0ZQDkpMQHMUBlAGGshI3tAGUC0QDp0hjwZQGTqRozrORlAtlmtC/0qGUA0Q43HOwwZQJU0KkER6RhAZtKgss/QGEBc5152KsgYQP4XKAMwxhhAK8oYL+W8GEB/w2AYP6UYQJLpQmWThBhAsonnw2dnGEAIvAv/ElcYQJB9kyKrUhhAeTTxgjFPGED/TN3ENj8YQA==\"},\"shape\":[260],\"dtype\":\"float64\",\"order\":\"little\"}]]}}},\"view\":{\"type\":\"object\",\"name\":\"CDSView\",\"id\":\"p1451\",\"attributes\":{\"filter\":{\"type\":\"object\",\"name\":\"AllIndices\",\"id\":\"p1452\"}}},\"glyph\":{\"type\":\"object\",\"name\":\"Line\",\"id\":\"p1447\",\"attributes\":{\"x\":{\"type\":\"field\",\"field\":\"x\"},\"y\":{\"type\":\"field\",\"field\":\"y\"},\"line_color\":\"blue\"}},\"nonselection_glyph\":{\"type\":\"object\",\"name\":\"Line\",\"id\":\"p1448\",\"attributes\":{\"x\":{\"type\":\"field\",\"field\":\"x\"},\"y\":{\"type\":\"field\",\"field\":\"y\"},\"line_color\":\"blue\",\"line_alpha\":0.1}},\"muted_glyph\":{\"type\":\"object\",\"name\":\"Line\",\"id\":\"p1449\",\"attributes\":{\"x\":{\"type\":\"field\",\"field\":\"x\"},\"y\":{\"type\":\"field\",\"field\":\"y\"},\"line_color\":\"blue\",\"line_alpha\":0.2}}}}],\"toolbar\":{\"type\":\"object\",\"name\":\"Toolbar\",\"id\":\"p1409\",\"attributes\":{\"tools\":[{\"type\":\"object\",\"name\":\"PanTool\",\"id\":\"p1422\"},{\"type\":\"object\",\"name\":\"WheelZoomTool\",\"id\":\"p1423\",\"attributes\":{\"renderers\":\"auto\"}},{\"type\":\"object\",\"name\":\"BoxZoomTool\",\"id\":\"p1424\",\"attributes\":{\"dimensions\":\"both\",\"overlay\":{\"type\":\"object\",\"name\":\"BoxAnnotation\",\"id\":\"p1425\",\"attributes\":{\"syncable\":false,\"line_color\":\"black\",\"line_alpha\":1.0,\"line_width\":2,\"line_dash\":[4,4],\"fill_color\":\"lightgrey\",\"fill_alpha\":0.5,\"level\":\"overlay\",\"visible\":false,\"left\":{\"type\":\"number\",\"value\":\"nan\"},\"right\":{\"type\":\"number\",\"value\":\"nan\"},\"top\":{\"type\":\"number\",\"value\":\"nan\"},\"bottom\":{\"type\":\"number\",\"value\":\"nan\"},\"left_units\":\"canvas\",\"right_units\":\"canvas\",\"top_units\":\"canvas\",\"bottom_units\":\"canvas\",\"handles\":{\"type\":\"object\",\"name\":\"BoxInteractionHandles\",\"id\":\"p1431\",\"attributes\":{\"all\":{\"type\":\"object\",\"name\":\"AreaVisuals\",\"id\":\"p1430\",\"attributes\":{\"fill_color\":\"white\",\"hover_fill_color\":\"lightgray\"}}}}}}}},{\"type\":\"object\",\"name\":\"SaveTool\",\"id\":\"p1432\"},{\"type\":\"object\",\"name\":\"ResetTool\",\"id\":\"p1433\"},{\"type\":\"object\",\"name\":\"HelpTool\",\"id\":\"p1434\"}]}},\"left\":[{\"type\":\"object\",\"name\":\"LinearAxis\",\"id\":\"p1417\",\"attributes\":{\"ticker\":{\"type\":\"object\",\"name\":\"BasicTicker\",\"id\":\"p1418\",\"attributes\":{\"mantissas\":[1,2,5]}},\"formatter\":{\"type\":\"object\",\"name\":\"BasicTickFormatter\",\"id\":\"p1419\"},\"axis_label\":\"RA(hours)\",\"major_label_policy\":{\"type\":\"object\",\"name\":\"AllLabels\",\"id\":\"p1420\"}}}],\"below\":[{\"type\":\"object\",\"name\":\"LinearAxis\",\"id\":\"p1412\",\"attributes\":{\"ticker\":{\"type\":\"object\",\"name\":\"BasicTicker\",\"id\":\"p1413\",\"attributes\":{\"mantissas\":[1,2,5]}},\"formatter\":{\"type\":\"object\",\"name\":\"BasicTickFormatter\",\"id\":\"p1414\"},\"axis_label\":\"days\",\"major_label_policy\":{\"type\":\"object\",\"name\":\"AllLabels\",\"id\":\"p1415\"}}}],\"center\":[{\"type\":\"object\",\"name\":\"Grid\",\"id\":\"p1416\",\"attributes\":{\"axis\":{\"id\":\"p1412\"}}},{\"type\":\"object\",\"name\":\"Grid\",\"id\":\"p1421\",\"attributes\":{\"dimension\":1,\"axis\":{\"id\":\"p1417\"}}}]}}]}};\n",
       "  const render_items = [{\"docid\":\"1eaebb79-8a68-4220-ae21-857207afc11a\",\"roots\":{\"p1400\":\"bb58b95f-7f37-41bf-b80e-da10e1539012\"},\"root_ids\":[\"p1400\"]}];\n",
       "  void root.Bokeh.embed.embed_items_notebook(docs_json, render_items);\n",
       "  }\n",
       "  if (root.Bokeh !== undefined) {\n",
       "    embed_document(root);\n",
       "  } else {\n",
       "    let attempts = 0;\n",
       "    const timer = setInterval(function(root) {\n",
       "      if (root.Bokeh !== undefined) {\n",
       "        clearInterval(timer);\n",
       "        embed_document(root);\n",
       "      } else {\n",
       "        attempts++;\n",
       "        if (attempts > 100) {\n",
       "          clearInterval(timer);\n",
       "          console.log(\"Bokeh: ERROR: Unable to run BokehJS code because BokehJS library is missing\");\n",
       "        }\n",
       "      }\n",
       "    }, 10, root)\n",
       "  }\n",
       "})(window);"
      ],
      "application/vnd.bokehjs_exec.v0+json": ""
     },
     "metadata": {
      "application/vnd.bokehjs_exec.v0+json": {
       "id": "p1400"
      }
     },
     "output_type": "display_data"
    }
   ],
   "source": [
    "fig = figure(title=\"Moon standstills RA, starting at \" + t_start.tt_strftime(), x_axis_label=\"days\", y_axis_label=\"RA(hours)\", width=1100)\n",
    "fig.scatter(t_max_dec.tt - t_start.tt, ra.hours, fill_color=colors, line_color=\"red\", size=7)\n",
    "fig.line(t_max_dec.tt - t_start.tt, ra.hours, line_color=\"blue\")\n",
    "show(fig)"
   ]
  },
  {
   "cell_type": "code",
   "execution_count": 18,
   "id": "47c6bc08-faca-4032-952f-37143e184e23",
   "metadata": {},
   "outputs": [
    {
     "data": {
      "text/html": [
       "\n",
       "  <div id=\"d042a380-0cd6-41ea-8e8b-bdc2db091573\" data-root-id=\"p1457\" style=\"display: contents;\"></div>\n"
      ]
     },
     "metadata": {},
     "output_type": "display_data"
    },
    {
     "data": {
      "application/javascript": [
       "(function(root) {\n",
       "  function embed_document(root) {\n",
       "  const docs_json = {\"41ea3000-ab07-42b7-8996-af1832def43f\":{\"version\":\"3.7.2\",\"title\":\"Bokeh Application\",\"roots\":[{\"type\":\"object\",\"name\":\"Figure\",\"id\":\"p1457\",\"attributes\":{\"width\":1100,\"x_range\":{\"type\":\"object\",\"name\":\"DataRange1d\",\"id\":\"p1458\"},\"y_range\":{\"type\":\"object\",\"name\":\"DataRange1d\",\"id\":\"p1459\"},\"x_scale\":{\"type\":\"object\",\"name\":\"LinearScale\",\"id\":\"p1467\"},\"y_scale\":{\"type\":\"object\",\"name\":\"LinearScale\",\"id\":\"p1468\"},\"title\":{\"type\":\"object\",\"name\":\"Title\",\"id\":\"p1460\",\"attributes\":{\"text\":\"Moon standstills distance, starting at 2005-06-21 00:00:00 TT\"}},\"renderers\":[{\"type\":\"object\",\"name\":\"GlyphRenderer\",\"id\":\"p1498\",\"attributes\":{\"data_source\":{\"type\":\"object\",\"name\":\"ColumnDataSource\",\"id\":\"p1492\",\"attributes\":{\"selected\":{\"type\":\"object\",\"name\":\"Selection\",\"id\":\"p1493\",\"attributes\":{\"indices\":[],\"line_indices\":[]}},\"selection_policy\":{\"type\":\"object\",\"name\":\"UnionRenderers\",\"id\":\"p1494\"},\"data\":{\"type\":\"map\",\"entries\":[[\"x\",{\"type\":\"ndarray\",\"array\":{\"type\":\"bytes\",\"data\":\"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\"},\"shape\":[260],\"dtype\":\"float64\",\"order\":\"little\"}],[\"y\",{\"type\":\"ndarray\",\"array\":{\"type\":\"bytes\",\"data\":\"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\"},\"shape\":[260],\"dtype\":\"float64\",\"order\":\"little\"}],[\"fill_color\",[\"#ffffff\",\"#fffeff\",\"#fffdff\",\"#fffcff\",\"#fffbff\",\"#fffaff\",\"#fff9ff\",\"#fff8ff\",\"#fff7ff\",\"#fff6ff\",\"#fff5ff\",\"#fff4ff\",\"#fff3ff\",\"#fff2ff\",\"#fff1ff\",\"#fff0ff\",\"#ffefff\",\"#ffeeff\",\"#ffedff\",\"#ffecff\",\"#ffebff\",\"#ffeaff\",\"#ffe9ff\",\"#ffe8ff\",\"#ffe7ff\",\"#ffe6ff\",\"#ffe5ff\",\"#ffe4ff\",\"#ffe3ff\",\"#ffe2ff\",\"#ffe1ff\",\"#ffe0ff\",\"#ffdfff\",\"#ffdeff\",\"#ffddff\",\"#ffdcff\",\"#ffdbff\",\"#ffdaff\",\"#ffd9ff\",\"#ffd8ff\",\"#ffd7ff\",\"#ffd6ff\",\"#ffd5ff\",\"#ffd4ff\",\"#ffd3ff\",\"#ffd2ff\",\"#ffd1ff\",\"#ffd0ff\",\"#ffcfff\",\"#ffceff\",\"#ffcdff\",\"#ffccff\",\"#ffcbff\",\"#ffcaff\",\"#ffc9ff\",\"#ffc8ff\",\"#ffc7ff\",\"#ffc6ff\",\"#ffc5ff\",\"#ffc4ff\",\"#ffc3ff\",\"#ffc2ff\",\"#ffc1ff\",\"#ffc0ff\",\"#ffbfff\",\"#ffbfff\",\"#ffbeff\",\"#ffbdff\",\"#ffbcff\",\"#ffbbff\",\"#ffbaff\",\"#ffb9ff\",\"#ffb8ff\",\"#ffb7ff\",\"#ffb6ff\",\"#ffb5ff\",\"#ffb4ff\",\"#ffb3ff\",\"#ffb2ff\",\"#ffb1ff\",\"#ffb0ff\",\"#ffafff\",\"#ffaeff\",\"#ffadff\",\"#ffacff\",\"#ffabff\",\"#ffaaff\",\"#ffa9ff\",\"#ffa8ff\",\"#ffa7ff\",\"#ffa6ff\",\"#ffa5ff\",\"#ffa4ff\",\"#ffa3ff\",\"#ffa2ff\",\"#ffa1ff\",\"#ffa0ff\",\"#ff9fff\",\"#ff9eff\",\"#ff9dff\",\"#ff9cff\",\"#ff9bff\",\"#ff9aff\",\"#ff99ff\",\"#ff98ff\",\"#ff97ff\",\"#ff96ff\",\"#ff95ff\",\"#ff94ff\",\"#ff93ff\",\"#ff92ff\",\"#ff91ff\",\"#ff90ff\",\"#ff8fff\",\"#ff8eff\",\"#ff8dff\",\"#ff8cff\",\"#ff8bff\",\"#ff8aff\",\"#ff89ff\",\"#ff88ff\",\"#ff87ff\",\"#ff86ff\",\"#ff85ff\",\"#ff84ff\",\"#ff83ff\",\"#ff82ff\",\"#ff81ff\",\"#ff80ff\",\"#ff80ff\",\"#ff7fff\",\"#ff7eff\",\"#ff7dff\",\"#ff7cff\",\"#ff7bff\",\"#ff7aff\",\"#ff79ff\",\"#ff78ff\",\"#ff77ff\",\"#ff76ff\",\"#ff75ff\",\"#ff74ff\",\"#ff73ff\",\"#ff72ff\",\"#ff71ff\",\"#ff70ff\",\"#ff6fff\",\"#ff6eff\",\"#ff6dff\",\"#ff6cff\",\"#ff6bff\",\"#ff6aff\",\"#ff69ff\",\"#ff68ff\",\"#ff67ff\",\"#ff66ff\",\"#ff65ff\",\"#ff64ff\",\"#ff63ff\",\"#ff62ff\",\"#ff61ff\",\"#ff60ff\",\"#ff5fff\",\"#ff5eff\",\"#ff5dff\",\"#ff5cff\",\"#ff5bff\",\"#ff5aff\",\"#ff59ff\",\"#ff58ff\",\"#ff57ff\",\"#ff56ff\",\"#ff55ff\",\"#ff54ff\",\"#ff53ff\",\"#ff52ff\",\"#ff51ff\",\"#ff50ff\",\"#ff4fff\",\"#ff4eff\",\"#ff4dff\",\"#ff4cff\",\"#ff4bff\",\"#ff4aff\",\"#ff49ff\",\"#ff48ff\",\"#ff47ff\",\"#ff46ff\",\"#ff45ff\",\"#ff44ff\",\"#ff43ff\",\"#ff42ff\",\"#ff41ff\",\"#ff40ff\",\"#ff3fff\",\"#ff3eff\",\"#ff3dff\",\"#ff3cff\",\"#ff3bff\",\"#ff3bff\",\"#ff3aff\",\"#ff39ff\",\"#ff38ff\",\"#ff37ff\",\"#ff36ff\",\"#ff35ff\",\"#ff34ff\",\"#ff33ff\",\"#ff32ff\",\"#ff31ff\",\"#ff30ff\",\"#ff2fff\",\"#ff2eff\",\"#ff2dff\",\"#ff2cff\",\"#ff2bff\",\"#ff2aff\",\"#ff29ff\",\"#ff28ff\",\"#ff27ff\",\"#ff26ff\",\"#ff25ff\",\"#ff24ff\",\"#ff23ff\",\"#ff22ff\",\"#ff21ff\",\"#ff20ff\",\"#ff1fff\",\"#ff1eff\",\"#ff1dff\",\"#ff1cff\",\"#ff1bff\",\"#ff1aff\",\"#ff19ff\",\"#ff18ff\",\"#ff17ff\",\"#ff16ff\",\"#ff15ff\",\"#ff14ff\",\"#ff13ff\",\"#ff12ff\",\"#ff11ff\",\"#ff10ff\",\"#ff0fff\",\"#ff0eff\",\"#ff0dff\",\"#ff0cff\",\"#ff0bff\",\"#ff0aff\",\"#ff09ff\",\"#ff08ff\",\"#ff07ff\",\"#ff06ff\",\"#ff05ff\",\"#ff04ff\",\"#ff03ff\",\"#ff02ff\",\"#ff01ff\",\"#ff00ff\",\"#ff00ff\"]]]}}},\"view\":{\"type\":\"object\",\"name\":\"CDSView\",\"id\":\"p1499\",\"attributes\":{\"filter\":{\"type\":\"object\",\"name\":\"AllIndices\",\"id\":\"p1500\"}}},\"glyph\":{\"type\":\"object\",\"name\":\"Scatter\",\"id\":\"p1495\",\"attributes\":{\"x\":{\"type\":\"field\",\"field\":\"x\"},\"y\":{\"type\":\"field\",\"field\":\"y\"},\"size\":{\"type\":\"value\",\"value\":7},\"line_color\":{\"type\":\"value\",\"value\":\"red\"},\"fill_color\":{\"type\":\"field\",\"field\":\"fill_color\"}}},\"nonselection_glyph\":{\"type\":\"object\",\"name\":\"Scatter\",\"id\":\"p1496\",\"attributes\":{\"x\":{\"type\":\"field\",\"field\":\"x\"},\"y\":{\"type\":\"field\",\"field\":\"y\"},\"size\":{\"type\":\"value\",\"value\":7},\"line_color\":{\"type\":\"value\",\"value\":\"red\"},\"line_alpha\":{\"type\":\"value\",\"value\":0.1},\"fill_color\":{\"type\":\"field\",\"field\":\"fill_color\"},\"fill_alpha\":{\"type\":\"value\",\"value\":0.1},\"hatch_alpha\":{\"type\":\"value\",\"value\":0.1}}},\"muted_glyph\":{\"type\":\"object\",\"name\":\"Scatter\",\"id\":\"p1497\",\"attributes\":{\"x\":{\"type\":\"field\",\"field\":\"x\"},\"y\":{\"type\":\"field\",\"field\":\"y\"},\"size\":{\"type\":\"value\",\"value\":7},\"line_color\":{\"type\":\"value\",\"value\":\"red\"},\"line_alpha\":{\"type\":\"value\",\"value\":0.2},\"fill_color\":{\"type\":\"field\",\"field\":\"fill_color\"},\"fill_alpha\":{\"type\":\"value\",\"value\":0.2},\"hatch_alpha\":{\"type\":\"value\",\"value\":0.2}}}}},{\"type\":\"object\",\"name\":\"GlyphRenderer\",\"id\":\"p1507\",\"attributes\":{\"data_source\":{\"type\":\"object\",\"name\":\"ColumnDataSource\",\"id\":\"p1501\",\"attributes\":{\"selected\":{\"type\":\"object\",\"name\":\"Selection\",\"id\":\"p1502\",\"attributes\":{\"indices\":[],\"line_indices\":[]}},\"selection_policy\":{\"type\":\"object\",\"name\":\"UnionRenderers\",\"id\":\"p1503\"},\"data\":{\"type\":\"map\",\"entries\":[[\"x\",{\"type\":\"ndarray\",\"array\":{\"type\":\"bytes\",\"data\":\"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\"},\"shape\":[260],\"dtype\":\"float64\",\"order\":\"little\"}],[\"y\",{\"type\":\"ndarray\",\"array\":{\"type\":\"bytes\",\"data\":\"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\"},\"shape\":[260],\"dtype\":\"float64\",\"order\":\"little\"}]]}}},\"view\":{\"type\":\"object\",\"name\":\"CDSView\",\"id\":\"p1508\",\"attributes\":{\"filter\":{\"type\":\"object\",\"name\":\"AllIndices\",\"id\":\"p1509\"}}},\"glyph\":{\"type\":\"object\",\"name\":\"Line\",\"id\":\"p1504\",\"attributes\":{\"x\":{\"type\":\"field\",\"field\":\"x\"},\"y\":{\"type\":\"field\",\"field\":\"y\"},\"line_color\":\"blue\"}},\"nonselection_glyph\":{\"type\":\"object\",\"name\":\"Line\",\"id\":\"p1505\",\"attributes\":{\"x\":{\"type\":\"field\",\"field\":\"x\"},\"y\":{\"type\":\"field\",\"field\":\"y\"},\"line_color\":\"blue\",\"line_alpha\":0.1}},\"muted_glyph\":{\"type\":\"object\",\"name\":\"Line\",\"id\":\"p1506\",\"attributes\":{\"x\":{\"type\":\"field\",\"field\":\"x\"},\"y\":{\"type\":\"field\",\"field\":\"y\"},\"line_color\":\"blue\",\"line_alpha\":0.2}}}}],\"toolbar\":{\"type\":\"object\",\"name\":\"Toolbar\",\"id\":\"p1466\",\"attributes\":{\"tools\":[{\"type\":\"object\",\"name\":\"PanTool\",\"id\":\"p1479\"},{\"type\":\"object\",\"name\":\"WheelZoomTool\",\"id\":\"p1480\",\"attributes\":{\"renderers\":\"auto\"}},{\"type\":\"object\",\"name\":\"BoxZoomTool\",\"id\":\"p1481\",\"attributes\":{\"dimensions\":\"both\",\"overlay\":{\"type\":\"object\",\"name\":\"BoxAnnotation\",\"id\":\"p1482\",\"attributes\":{\"syncable\":false,\"line_color\":\"black\",\"line_alpha\":1.0,\"line_width\":2,\"line_dash\":[4,4],\"fill_color\":\"lightgrey\",\"fill_alpha\":0.5,\"level\":\"overlay\",\"visible\":false,\"left\":{\"type\":\"number\",\"value\":\"nan\"},\"right\":{\"type\":\"number\",\"value\":\"nan\"},\"top\":{\"type\":\"number\",\"value\":\"nan\"},\"bottom\":{\"type\":\"number\",\"value\":\"nan\"},\"left_units\":\"canvas\",\"right_units\":\"canvas\",\"top_units\":\"canvas\",\"bottom_units\":\"canvas\",\"handles\":{\"type\":\"object\",\"name\":\"BoxInteractionHandles\",\"id\":\"p1488\",\"attributes\":{\"all\":{\"type\":\"object\",\"name\":\"AreaVisuals\",\"id\":\"p1487\",\"attributes\":{\"fill_color\":\"white\",\"hover_fill_color\":\"lightgray\"}}}}}}}},{\"type\":\"object\",\"name\":\"SaveTool\",\"id\":\"p1489\"},{\"type\":\"object\",\"name\":\"ResetTool\",\"id\":\"p1490\"},{\"type\":\"object\",\"name\":\"HelpTool\",\"id\":\"p1491\"}]}},\"left\":[{\"type\":\"object\",\"name\":\"LinearAxis\",\"id\":\"p1474\",\"attributes\":{\"ticker\":{\"type\":\"object\",\"name\":\"BasicTicker\",\"id\":\"p1475\",\"attributes\":{\"mantissas\":[1,2,5]}},\"formatter\":{\"type\":\"object\",\"name\":\"BasicTickFormatter\",\"id\":\"p1476\"},\"axis_label\":\"km\",\"major_label_policy\":{\"type\":\"object\",\"name\":\"AllLabels\",\"id\":\"p1477\"}}}],\"below\":[{\"type\":\"object\",\"name\":\"LinearAxis\",\"id\":\"p1469\",\"attributes\":{\"ticker\":{\"type\":\"object\",\"name\":\"BasicTicker\",\"id\":\"p1470\",\"attributes\":{\"mantissas\":[1,2,5]}},\"formatter\":{\"type\":\"object\",\"name\":\"BasicTickFormatter\",\"id\":\"p1471\"},\"axis_label\":\"days\",\"major_label_policy\":{\"type\":\"object\",\"name\":\"AllLabels\",\"id\":\"p1472\"}}}],\"center\":[{\"type\":\"object\",\"name\":\"Grid\",\"id\":\"p1473\",\"attributes\":{\"axis\":{\"id\":\"p1469\"}}},{\"type\":\"object\",\"name\":\"Grid\",\"id\":\"p1478\",\"attributes\":{\"dimension\":1,\"axis\":{\"id\":\"p1474\"}}}]}}]}};\n",
       "  const render_items = [{\"docid\":\"41ea3000-ab07-42b7-8996-af1832def43f\",\"roots\":{\"p1457\":\"d042a380-0cd6-41ea-8e8b-bdc2db091573\"},\"root_ids\":[\"p1457\"]}];\n",
       "  void root.Bokeh.embed.embed_items_notebook(docs_json, render_items);\n",
       "  }\n",
       "  if (root.Bokeh !== undefined) {\n",
       "    embed_document(root);\n",
       "  } else {\n",
       "    let attempts = 0;\n",
       "    const timer = setInterval(function(root) {\n",
       "      if (root.Bokeh !== undefined) {\n",
       "        clearInterval(timer);\n",
       "        embed_document(root);\n",
       "      } else {\n",
       "        attempts++;\n",
       "        if (attempts > 100) {\n",
       "          clearInterval(timer);\n",
       "          console.log(\"Bokeh: ERROR: Unable to run BokehJS code because BokehJS library is missing\");\n",
       "        }\n",
       "      }\n",
       "    }, 10, root)\n",
       "  }\n",
       "})(window);"
      ],
      "application/vnd.bokehjs_exec.v0+json": ""
     },
     "metadata": {
      "application/vnd.bokehjs_exec.v0+json": {
       "id": "p1457"
      }
     },
     "output_type": "display_data"
    }
   ],
   "source": [
    "fig = figure(title=\"Moon standstills distance, starting at \" + t_start.tt_strftime(), x_axis_label=\"days\", y_axis_label=\"km\", width=1100)\n",
    "fig.scatter(t_max_dec.tt - t_start.tt, dist.km, fill_color=colors, line_color=\"red\", size=7)\n",
    "fig.line(t_max_dec.tt - t_start.tt, dist.km, line_color=\"blue\")\n",
    "show(fig)"
   ]
  }
 ],
 "metadata": {
  "kernelspec": {
   "display_name": "Python 3 (ipykernel)",
   "language": "python",
   "name": "python3"
  },
  "language_info": {
   "codemirror_mode": {
    "name": "ipython",
    "version": 3
   },
   "file_extension": ".py",
   "mimetype": "text/x-python",
   "name": "python",
   "nbconvert_exporter": "python",
   "pygments_lexer": "ipython3",
   "version": "3.12.3"
  }
 },
 "nbformat": 4,
 "nbformat_minor": 5
}
